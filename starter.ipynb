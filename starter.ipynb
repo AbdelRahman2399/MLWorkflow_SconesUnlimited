{
 "cells": [
  {
   "cell_type": "markdown",
   "metadata": {},
   "source": [
    "# Deploy and monitor a machine learning workflow for Image Classification"
   ]
  },
  {
   "cell_type": "markdown",
   "metadata": {},
   "source": [
    "## Setting up this notebook\n",
    "\n",
    "Notes about the instance size and kernel setup: this notebook has been tested on\n",
    "\n",
    "1. The `Python 3 (Data Science)` kernel\n",
    "2. The `ml.t3.medium` Sagemaker notebook instance\n",
    "\n",
    "## Data Staging\n",
    "\n",
    "We'll use a sample dataset called CIFAR to simulate the challenges Scones Unlimited are facing in Image Classification. In order to start working with CIFAR we'll need to:\n",
    "\n",
    "1. Extract the data from a hosting service\n",
    "2. Transform it into a usable shape and format\n",
    "3. Load it into a production system\n",
    "\n",
    "In other words, we're going to do some simple ETL!\n",
    "\n",
    "### 1. Extract the data from the hosting service\n",
    "\n",
    "In the cell below, define a function `extract_cifar_data` that extracts python version of the CIFAR-100 dataset. The CIFAR dataaset is open source and generously hosted by the University of Toronto at: https://www.cs.toronto.edu/~kriz/cifar-100-python.tar.gz "
   ]
  },
  {
   "cell_type": "code",
   "execution_count": null,
   "metadata": {
    "tags": []
   },
   "outputs": [],
   "source": [
    "import requests\n",
    "\n",
    "def extract_cifar_data(url, filename=\"cifar.tar.gz\"):\n",
    "    \"\"\"A function for extracting the CIFAR-100 dataset and storing it as a gzipped file\n",
    "    \n",
    "    Arguments:\n",
    "    url      -- the URL where the dataset is hosted\n",
    "    filename -- the full path where the dataset will be written\n",
    "    \n",
    "    \"\"\"\n",
    "    \n",
    "    # Todo: request the data from the data url\n",
    "    # Hint: use `requests.get` method\n",
    "    r = requests.get(url)\n",
    "    with open(filename, \"wb\") as file_context:\n",
    "        file_context.write(r.content)\n",
    "    return"
   ]
  },
  {
   "cell_type": "markdown",
   "metadata": {},
   "source": [
    "Let's test it out! Run the following cell and check whether a new file `cifar.tar.gz` is created in the file explorer."
   ]
  },
  {
   "cell_type": "code",
   "execution_count": null,
   "metadata": {
    "tags": []
   },
   "outputs": [],
   "source": [
    "extract_cifar_data(\"https://www.cs.toronto.edu/~kriz/cifar-100-python.tar.gz\")     "
   ]
  },
  {
   "cell_type": "markdown",
   "metadata": {},
   "source": [
    "### 2. Transform the data into a usable shape and format\n",
    "\n",
    "Clearly, distributing the data as a gzipped archive makes sense for the hosting service! It saves on bandwidth, storage, and it's a widely-used archive format. In fact, it's so widely used that the Python community ships a utility for working with them, `tarfile`, as part of its Standard Library. Execute the following cell to decompress your extracted dataset:"
   ]
  },
  {
   "cell_type": "code",
   "execution_count": 2,
   "metadata": {
    "tags": []
   },
   "outputs": [],
   "source": [
    "import tarfile\n",
    "\n",
    "with tarfile.open(\"cifar.tar.gz\", \"r:gz\") as tar:\n",
    "    tar.extractall()"
   ]
  },
  {
   "cell_type": "markdown",
   "metadata": {},
   "source": [
    "A new folder `cifar-100-python` should be created, containing `meta`, `test`, and `train` files. These files are `pickles` and the [CIFAR homepage](https://www.cs.toronto.edu/~kriz/cifar.html) provides a simple script that can be used to load them. We've adapted the script below for you to run:"
   ]
  },
  {
   "cell_type": "code",
   "execution_count": 3,
   "metadata": {
    "tags": []
   },
   "outputs": [],
   "source": [
    "import pickle\n",
    "\n",
    "with open(\"./cifar-100-python/meta\", \"rb\") as f:\n",
    "    dataset_meta = pickle.load(f, encoding='bytes')\n",
    "\n",
    "with open(\"./cifar-100-python/test\", \"rb\") as f:\n",
    "    dataset_test = pickle.load(f, encoding='bytes')\n",
    "\n",
    "with open(\"./cifar-100-python/train\", \"rb\") as f:\n",
    "    dataset_train = pickle.load(f, encoding='bytes')"
   ]
  },
  {
   "cell_type": "code",
   "execution_count": null,
   "metadata": {
    "tags": []
   },
   "outputs": [],
   "source": [
    "# Feel free to explore the datasets\n",
    "\n",
    "dataset_train.keys()"
   ]
  },
  {
   "cell_type": "markdown",
   "metadata": {},
   "source": [
    "As documented on the homepage, `b'data'` contains rows of 3073 unsigned integers, representing three channels (red, green, and blue) for one 32x32 pixel image per row."
   ]
  },
  {
   "cell_type": "code",
   "execution_count": null,
   "metadata": {
    "tags": []
   },
   "outputs": [],
   "source": [
    "32*32*3"
   ]
  },
  {
   "cell_type": "markdown",
   "metadata": {},
   "source": [
    "For a simple gut-check, let's transform one of our images. Each 1024 items in a row is a channel (red, green, then blue). Each 32 items in the channel are a row in the 32x32 image. Using python, we can stack these channels into a 32x32x3 array, and save it as a PNG file:"
   ]
  },
  {
   "cell_type": "code",
   "execution_count": 4,
   "metadata": {
    "tags": []
   },
   "outputs": [],
   "source": [
    "import numpy as np\n",
    "\n",
    "# Each 1024 in a row is a channel (red, green, then blue)\n",
    "row = dataset_train[b'data'][0]\n",
    "red, green, blue = row[0:1024], row[1024:2048], row[2048:]\n",
    "\n",
    "# Each 32 items in the channel are a row in the 32x32 image\n",
    "red = red.reshape(32,32)\n",
    "green = green.reshape(32,32)\n",
    "blue = blue.reshape(32,32)\n",
    "\n",
    "# Combine the channels into a 32x32x3 image!\n",
    "combined = np.dstack((red,green,blue))"
   ]
  },
  {
   "cell_type": "markdown",
   "metadata": {},
   "source": [
    "For a more concise version, consider the following:"
   ]
  },
  {
   "cell_type": "code",
   "execution_count": 5,
   "metadata": {
    "tags": []
   },
   "outputs": [],
   "source": [
    "# All in one:\n",
    "test_image = np.dstack((\n",
    "    row[0:1024].reshape(32,32),\n",
    "    row[1024:2048].reshape(32,32),\n",
    "    row[2048:].reshape(32,32)\n",
    "))"
   ]
  },
  {
   "cell_type": "code",
   "execution_count": 6,
   "metadata": {
    "tags": []
   },
   "outputs": [
    {
     "data": {
      "image/png": "[encoded data removed]",
      "text/plain": [
       "<Figure size 640x480 with 1 Axes>"
      ]
     },
     "metadata": {},
     "output_type": "display_data"
    }
   ],
   "source": [
    "import matplotlib.pyplot as plt\n",
    "%matplotlib inline\n",
    "plt.imshow(test_image);"
   ]
  },
  {
   "cell_type": "markdown",
   "metadata": {},
   "source": [
    "Looks like a cow! Let's check the label. `dataset_meta` contains label names in order, and `dataset_train` has a list of labels for each row."
   ]
  },
  {
   "cell_type": "code",
   "execution_count": null,
   "metadata": {
    "tags": []
   },
   "outputs": [],
   "source": [
    "dataset_train[b'fine_labels'][0]"
   ]
  },
  {
   "cell_type": "markdown",
   "metadata": {},
   "source": [
    "Our image has a label of `19`, so let's see what the 19th item is in the list of label names."
   ]
  },
  {
   "cell_type": "code",
   "execution_count": null,
   "metadata": {
    "tags": []
   },
   "outputs": [],
   "source": [
    "print(dataset_meta[b'fine_label_names'][19])"
   ]
  },
  {
   "cell_type": "markdown",
   "metadata": {},
   "source": [
    "Ok! 'cattle' sounds about right. By the way, using the previous two lines we can do:"
   ]
  },
  {
   "cell_type": "code",
   "execution_count": null,
   "metadata": {
    "tags": []
   },
   "outputs": [],
   "source": [
    "n = 0\n",
    "print(dataset_meta[b'fine_label_names'][dataset_train[b'fine_labels'][n]])"
   ]
  },
  {
   "cell_type": "markdown",
   "metadata": {},
   "source": [
    "Now we know how to check labels, is there a way that we can also check file names? `dataset_train` also contains a `b'filenames'` key. Let's see what we have here:"
   ]
  },
  {
   "cell_type": "code",
   "execution_count": null,
   "metadata": {
    "tags": []
   },
   "outputs": [],
   "source": [
    "print(dataset_train[b'filenames'][0])"
   ]
  },
  {
   "cell_type": "markdown",
   "metadata": {},
   "source": [
    "\"Taurus\" is the name of a subspecies of cattle, so this looks like a pretty reasonable filename. To save an image we can also do:"
   ]
  },
  {
   "cell_type": "code",
   "execution_count": null,
   "metadata": {
    "tags": []
   },
   "outputs": [],
   "source": [
    "plt.imsave(\"file.png\", test_image)"
   ]
  },
  {
   "cell_type": "markdown",
   "metadata": {},
   "source": [
    "Your new PNG file should now appear in the file explorer -- go ahead and pop it open to see!\n",
    "\n",
    "Now that you know how to reshape the images, save them as files, and capture their filenames and labels, let's just capture all the bicycles and motorcycles and save them. Scones Unlimited can use a model that tells these apart to route delivery drivers automatically.\n",
    "\n",
    "In the following cell, identify the label numbers for Bicycles and Motorcycles:"
   ]
  },
  {
   "cell_type": "code",
   "execution_count": 7,
   "metadata": {
    "tags": []
   },
   "outputs": [
    {
     "name": "stdout",
     "output_type": "stream",
     "text": [
      "[8, 48]\n"
     ]
    }
   ],
   "source": [
    "import pandas as pd\n",
    "\n",
    "# Todo: Filter the dataset_train and dataset_meta objects to find the label numbers for Bicycle and Motorcycles\n",
    "\n",
    "numbers = []\n",
    "\n",
    "for i,x in enumerate(dataset_meta[b'fine_label_names']):\n",
    "    if b'cycle' in x:\n",
    "        numbers.append(i)\n",
    "print(numbers)"
   ]
  },
  {
   "cell_type": "markdown",
   "metadata": {},
   "source": [
    "Good job! We only need objects with label 8 and 48 -- this drastically simplifies our handling of the data! Below we construct a dataframe for you, and you can safely drop the rows that don't contain observations about bicycles and motorcycles. Fill in the missing lines below to drop all other rows:"
   ]
  },
  {
   "cell_type": "code",
   "execution_count": 24,
   "metadata": {
    "tags": []
   },
   "outputs": [
    {
     "data": {
      "text/plain": [
       "16"
      ]
     },
     "execution_count": 24,
     "metadata": {},
     "output_type": "execute_result"
    }
   ],
   "source": [
    "#df_train = pd.DataFrame({\n",
    "#    \"filenames\": dataset_train[b'filenames'],\n",
    "#    \"labels\": dataset_train[b'fine_labels'],\n",
    "#    \"row\": range(len(dataset_train[b'filenames']))\n",
    "#})\n",
    "\n",
    "\n",
    "#df_train = df_train[(df_train[\"labels\"] == 8) | (df_train[\"labels\"] == 48)]\n",
    "df_train['row'].iloc[0]"
   ]
  },
  {
   "cell_type": "code",
   "execution_count": 8,
   "metadata": {
    "tags": []
   },
   "outputs": [],
   "source": [
    "#Construct the dataframe\n",
    "df_train = pd.DataFrame({\n",
    "    \"filenames\": dataset_train[b'filenames'],\n",
    "    \"labels\": dataset_train[b'fine_labels'],\n",
    "    \"row\": range(len(dataset_train[b'filenames']))\n",
    "})\n",
    "\n",
    "# Drop all rows from df_train where label is not 8 or 48\n",
    "\n",
    "\n",
    "df_train = df_train[(df_train[\"labels\"] == 8) | (df_train[\"labels\"] == 48)]#TODO: Fill in\n",
    "\n",
    "# Decode df_train.filenames so they are regular strings\n",
    "df_train[\"filenames\"] = df_train[\"filenames\"].apply(\n",
    "    lambda x: x.decode(\"utf-8\")\n",
    ")\n",
    "\n",
    "\n",
    "df_test = pd.DataFrame({\n",
    "    \"filenames\": dataset_test[b'filenames'],\n",
    "    \"labels\": dataset_test[b'fine_labels'],\n",
    "    \"row\": range(len(dataset_test[b'filenames']))\n",
    "})\n",
    "\n",
    "# Drop all rows from df_test where label is not 8 or 48\n",
    "df_test = df_test[(df_test[\"labels\"] == 8) | (df_test[\"labels\"] == 48)]#TODO: Fill in\n",
    "\n",
    "# Decode df_test.filenames so they are regular strings\n",
    "df_test[\"filenames\"] = df_test[\"filenames\"].apply(\n",
    "    lambda x: x.decode(\"utf-8\")\n",
    ")"
   ]
  },
  {
   "cell_type": "code",
   "execution_count": 30,
   "metadata": {
    "tags": []
   },
   "outputs": [
    {
     "data": {
      "text/plain": [
       "1000"
      ]
     },
     "execution_count": 30,
     "metadata": {},
     "output_type": "execute_result"
    }
   ],
   "source": [
    "df_train.shape[0]"
   ]
  },
  {
   "cell_type": "code",
   "execution_count": 31,
   "metadata": {
    "tags": []
   },
   "outputs": [
    {
     "data": {
      "text/plain": [
       "200"
      ]
     },
     "execution_count": 31,
     "metadata": {},
     "output_type": "execute_result"
    }
   ],
   "source": [
    "df_test.shape[0]"
   ]
  },
  {
   "cell_type": "markdown",
   "metadata": {},
   "source": [
    "Now that the data is filtered for just our classes, we can save all our images."
   ]
  },
  {
   "cell_type": "code",
   "execution_count": 45,
   "metadata": {
    "tags": []
   },
   "outputs": [],
   "source": [
    "!mkdir ./train\n",
    "!mkdir ./test"
   ]
  },
  {
   "cell_type": "markdown",
   "metadata": {},
   "source": [
    "In the previous sections we introduced you to several key snippets of code:\n",
    "\n",
    "1. Grabbing the image data:\n",
    "\n",
    "```python\n",
    "dataset_train[b'data'][0]\n",
    "```\n",
    "\n",
    "2. A simple idiom for stacking the image data into the right shape\n",
    "\n",
    "```python\n",
    "import numpy as np\n",
    "np.dstack((\n",
    "    row[0:1024].reshape(32,32),\n",
    "    row[1024:2048].reshape(32,32),\n",
    "    row[2048:].reshape(32,32)\n",
    "))\n",
    "```\n",
    "\n",
    "3. A simple `matplotlib` utility for saving images\n",
    "\n",
    "```python\n",
    "plt.imsave(path+row['filenames'], target)\n",
    "```\n",
    "\n",
    "Compose these together into a function that saves all the images into the `./test` and `./train` directories. Use the comments in the body of the `save_images` function below to guide your construction of the function:\n"
   ]
  },
  {
   "cell_type": "code",
   "execution_count": 18,
   "metadata": {
    "tags": []
   },
   "outputs": [
    {
     "data": {
      "text/plain": [
       "'bike_s_000682.png'"
      ]
     },
     "execution_count": 18,
     "metadata": {},
     "output_type": "execute_result"
    }
   ],
   "source": [
    "img = df_train['filenames']\n",
    "img.iloc[0]\n",
    "#str(img)[2:-1]"
   ]
  },
  {
   "cell_type": "code",
   "execution_count": 20,
   "metadata": {
    "tags": []
   },
   "outputs": [
    {
     "data": {
      "text/plain": [
       "'safety_bike_s_000390.png'"
      ]
     },
     "execution_count": 20,
     "metadata": {},
     "output_type": "execute_result"
    }
   ],
   "source": [
    "img = df_test['filenames'].iloc[0]\n",
    "img"
   ]
  },
  {
   "cell_type": "code",
   "execution_count": 46,
   "metadata": {
    "tags": []
   },
   "outputs": [
    {
     "data": {
      "text/plain": [
       "'done'"
      ]
     },
     "execution_count": 46,
     "metadata": {},
     "output_type": "execute_result"
    }
   ],
   "source": [
    "def save_images():\n",
    "    #Grab the image data in row-major form\n",
    "    train = df_train['row']\n",
    "    test = df_test['row']\n",
    "    \n",
    "    # Consolidated stacking/reshaping from earlier\n",
    "    #target = []\n",
    "    #target2 = []\n",
    "    #for i,x in enumerate(train):\n",
    "    #    index = x\n",
    "    #    row = dataset_train[b'data'][index]\n",
    "    #    image = np.dstack((row[0:1024].reshape(32,32),row[1024:2048].reshape(32,32),row[2048:].reshape(32,32)))\n",
    "    #    plt.imsave(\"train/\" + df_train['filenames'].iloc[i], image);\n",
    "        #target.append(image)\n",
    "        \n",
    "    for i,x in enumerate(test):\n",
    "        index = x\n",
    "        row = dataset_test[b'data'][index]\n",
    "        image = np.dstack((row[0:1024].reshape(32,32),row[1024:2048].reshape(32,32),row[2048:].reshape(32,32)))\n",
    "        plt.imsave(\"test/\" + df_test['filenames'].iloc[i], image);\n",
    "        #target2.append(image)\n",
    "        \n",
    "    #train = target[:int(len(target)*0.8)]\n",
    "    #test = target[int(len(target)*0.8):]\n",
    "    \n",
    "    # Save the image\n",
    "    \n",
    "    #for i,x in enumerate(target):\n",
    "    #    plt.imsave(\"train/train_img\" + str(i) + \".png\", x);\n",
    "    #for i,x in enumerate(target2):\n",
    "    #    plt.imsave(\"test/test_img\" + str(i) + \".png\", x);\n",
    "    #for i,x in enumerate(train):\n",
    "    #    plt.imsave(\"train/train_img\" + str(i) + \".png\", x)\n",
    "        \n",
    "    #for i,x in enumerate(test):\n",
    "    #    plt.imsave(\"test/test_img\" + str(i) + \".png\", x)\n",
    "    \n",
    "    # Return any signal data you want for debugging\n",
    "    return \"done\"\n",
    "\n",
    "## TODO: save ALL images using the save_images function\n",
    "save_images()"
   ]
  },
  {
   "cell_type": "markdown",
   "metadata": {},
   "source": [
    "### 3. Load the data\n",
    "\n",
    "Now we can load the data into S3.\n",
    "\n",
    "Using the sagemaker SDK grab the current region, execution role, and bucket."
   ]
  },
  {
   "cell_type": "code",
   "execution_count": 4,
   "metadata": {
    "tags": []
   },
   "outputs": [
    {
     "name": "stdout",
     "output_type": "stream",
     "text": [
      "Default Bucket: projectbucket-udacity\n",
      "AWS Region: us-east-1\n",
      "RoleArn: arn:aws:iam::776618005296:role/service-role/AmazonSageMaker-ExecutionRole-20230822T011023\n"
     ]
    }
   ],
   "source": [
    "import sagemaker\n",
    "import boto3\n",
    "import sagemaker.session\n",
    "\n",
    "bucket= \"projectbucket-udacity\"## TODO: fill in\n",
    "print(\"Default Bucket: {}\".format(bucket))\n",
    "\n",
    "region = boto3.Session().region_name## TODO: fill in\n",
    "print(\"AWS Region: {}\".format(region))\n",
    "\n",
    "role = sagemaker.get_execution_role()## TODO: fill in\n",
    "print(\"RoleArn: {}\".format(role))"
   ]
  },
  {
   "cell_type": "code",
   "execution_count": 2,
   "metadata": {
    "tags": []
   },
   "outputs": [],
   "source": [
    "import sagemaker\n",
    "import boto3\n",
    "import sagemaker.session"
   ]
  },
  {
   "cell_type": "markdown",
   "metadata": {},
   "source": [
    "With this data we can easily sync your data up into S3!"
   ]
  },
  {
   "cell_type": "code",
   "execution_count": 47,
   "metadata": {
    "collapsed": true,
    "jupyter": {
     "outputs_hidden": true
    },
    "tags": []
   },
   "outputs": [
    {
     "name": "stdout",
     "output_type": "stream",
     "text": [
      "upload: test/.ipynb_checkpoints/bicycle_s_000030-checkpoint.png to s3://projectbucket-udacity/test/.ipynb_checkpoints/bicycle_s_000030-checkpoint.png\n",
      "upload: test/bicycle_s_000977.png to s3://projectbucket-udacity/test/bicycle_s_000977.png\n",
      "upload: test/bicycle_s_000776.png to s3://projectbucket-udacity/test/bicycle_s_000776.png\n",
      "upload: test/bicycle_s_000030.png to s3://projectbucket-udacity/test/bicycle_s_000030.png\n",
      "upload: test/bicycle_s_000031.png to s3://projectbucket-udacity/test/bicycle_s_000031.png\n",
      "upload: test/bicycle_s_000059.png to s3://projectbucket-udacity/test/bicycle_s_000059.png\n",
      "upload: test/bicycle_s_000779.png to s3://projectbucket-udacity/test/bicycle_s_000779.png\n",
      "upload: test/bicycle_s_001047.png to s3://projectbucket-udacity/test/bicycle_s_001047.png\n",
      "upload: test/bicycle_s_000777.png to s3://projectbucket-udacity/test/bicycle_s_000777.png\n",
      "upload: test/bicycle_s_001804.png to s3://projectbucket-udacity/test/bicycle_s_001804.png\n",
      "upload: test/.ipynb_checkpoints/bicycle_s_001218-checkpoint.png to s3://projectbucket-udacity/test/.ipynb_checkpoints/bicycle_s_001218-checkpoint.png\n",
      "upload: test/bicycle_s_000513.png to s3://projectbucket-udacity/test/bicycle_s_000513.png\n",
      "upload: test/bicycle_s_000479.png to s3://projectbucket-udacity/test/bicycle_s_000479.png\n",
      "upload: test/bicycle_s_001102.png to s3://projectbucket-udacity/test/bicycle_s_001102.png\n",
      "upload: test/bicycle_s_001107.png to s3://projectbucket-udacity/test/bicycle_s_001107.png\n",
      "upload: test/bike_s_000131.png to s3://projectbucket-udacity/test/bike_s_000131.png    \n",
      "upload: test/bicycle_s_002735.png to s3://projectbucket-udacity/test/bicycle_s_002735.png\n",
      "upload: test/bike_s_000071.png to s3://projectbucket-udacity/test/bike_s_000071.png    \n",
      "upload: test/bike_s_000330.png to s3://projectbucket-udacity/test/bike_s_000330.png    \n",
      "upload: test/bicycle_s_001218.png to s3://projectbucket-udacity/test/bicycle_s_001218.png\n",
      "upload: test/bike_s_000658.png to s3://projectbucket-udacity/test/bike_s_000658.png    \n",
      "upload: test/bicycle_s_001789.png to s3://projectbucket-udacity/test/bicycle_s_001789.png\n",
      "upload: test/bike_s_000163.png to s3://projectbucket-udacity/test/bike_s_000163.png    \n",
      "upload: test/bike_s_000694.png to s3://projectbucket-udacity/test/bike_s_000694.png    \n",
      "upload: test/bike_s_000487.png to s3://projectbucket-udacity/test/bike_s_000487.png    \n",
      "upload: test/bike_s_001068.png to s3://projectbucket-udacity/test/bike_s_001068.png    \n",
      "upload: test/bicycle_s_002458.png to s3://projectbucket-udacity/test/bicycle_s_002458.png\n",
      "upload: test/bike_s_001342.png to s3://projectbucket-udacity/test/bike_s_001342.png    \n",
      "upload: test/bike_s_000643.png to s3://projectbucket-udacity/test/bike_s_000643.png    \n",
      "upload: test/bike_s_000041.png to s3://projectbucket-udacity/test/bike_s_000041.png    \n",
      "upload: test/bike_s_001159.png to s3://projectbucket-udacity/test/bike_s_001159.png    \n",
      "upload: test/bike_s_001784.png to s3://projectbucket-udacity/test/bike_s_001784.png    \n",
      "upload: test/bike_s_001073.png to s3://projectbucket-udacity/test/bike_s_001073.png    \n",
      "upload: test/bike_s_001738.png to s3://projectbucket-udacity/test/bike_s_001738.png    \n",
      "upload: test/bike_s_000941.png to s3://projectbucket-udacity/test/bike_s_000941.png    \n",
      "upload: test/bike_s_000801.png to s3://projectbucket-udacity/test/bike_s_000801.png    \n",
      "upload: test/cycle_s_000010.png to s3://projectbucket-udacity/test/cycle_s_000010.png   \n",
      "upload: test/bike_s_002116.png to s3://projectbucket-udacity/test/bike_s_002116.png     \n",
      "upload: test/bike_s_000457.png to s3://projectbucket-udacity/test/bike_s_000457.png     \n",
      "upload: test/bike_s_002208.png to s3://projectbucket-udacity/test/bike_s_002208.png     \n",
      "upload: test/bike_s_001216.png to s3://projectbucket-udacity/test/bike_s_001216.png     \n",
      "upload: test/cycle_s_000970.png to s3://projectbucket-udacity/test/cycle_s_000970.png   \n",
      "upload: test/cycle_s_000068.png to s3://projectbucket-udacity/test/cycle_s_000068.png   \n",
      "upload: test/bike_s_001852.png to s3://projectbucket-udacity/test/bike_s_001852.png     \n",
      "upload: test/cycle_s_001648.png to s3://projectbucket-udacity/test/cycle_s_001648.png   \n",
      "upload: test/bike_s_002009.png to s3://projectbucket-udacity/test/bike_s_002009.png     \n",
      "upload: test/cycle_s_001915.png to s3://projectbucket-udacity/test/cycle_s_001915.png   \n",
      "upload: test/cycle_s_001953.png to s3://projectbucket-udacity/test/cycle_s_001953.png   \n",
      "upload: test/cycle_s_001044.png to s3://projectbucket-udacity/test/cycle_s_001044.png   \n",
      "upload: test/cycle_s_001297.png to s3://projectbucket-udacity/test/cycle_s_001297.png   \n",
      "upload: test/cycle_s_001306.png to s3://projectbucket-udacity/test/cycle_s_001306.png   \n",
      "upload: test/cycle_s_001214.png to s3://projectbucket-udacity/test/cycle_s_001214.png   \n",
      "upload: test/cycle_s_002305.png to s3://projectbucket-udacity/test/cycle_s_002305.png   \n",
      "upload: test/cycle_s_002613.png to s3://projectbucket-udacity/test/cycle_s_002613.png   \n",
      "upload: test/dirt_bike_s_000001.png to s3://projectbucket-udacity/test/dirt_bike_s_000001.png\n",
      "upload: test/cycle_s_002661.png to s3://projectbucket-udacity/test/cycle_s_002661.png   \n",
      "upload: test/minibike_s_000055.png to s3://projectbucket-udacity/test/minibike_s_000055.png\n",
      "upload: test/minibike_s_000052.png to s3://projectbucket-udacity/test/minibike_s_000052.png\n",
      "upload: test/minibike_s_000075.png to s3://projectbucket-udacity/test/minibike_s_000075.png\n",
      "upload: test/minibike_s_000288.png to s3://projectbucket-udacity/test/minibike_s_000288.png\n",
      "upload: test/minibike_s_000398.png to s3://projectbucket-udacity/test/minibike_s_000398.png\n",
      "upload: test/minibike_s_000290.png to s3://projectbucket-udacity/test/minibike_s_000290.png\n",
      "upload: test/minibike_s_000254.png to s3://projectbucket-udacity/test/minibike_s_000254.png\n",
      "upload: test/cycle_s_002964.png to s3://projectbucket-udacity/test/cycle_s_002964.png    \n",
      "upload: test/minibike_s_000573.png to s3://projectbucket-udacity/test/minibike_s_000573.png\n",
      "upload: test/minibike_s_000505.png to s3://projectbucket-udacity/test/minibike_s_000505.png\n",
      "upload: test/minibike_s_000792.png to s3://projectbucket-udacity/test/minibike_s_000792.png\n",
      "upload: test/minibike_s_000801.png to s3://projectbucket-udacity/test/minibike_s_000801.png\n",
      "upload: test/minibike_s_000309.png to s3://projectbucket-udacity/test/minibike_s_000309.png\n",
      "upload: test/minibike_s_000828.png to s3://projectbucket-udacity/test/minibike_s_000828.png\n",
      "upload: test/minibike_s_000880.png to s3://projectbucket-udacity/test/minibike_s_000880.png\n",
      "upload: test/minibike_s_000497.png to s3://projectbucket-udacity/test/minibike_s_000497.png\n",
      "upload: test/minibike_s_001441.png to s3://projectbucket-udacity/test/minibike_s_001441.png\n",
      "upload: test/minibike_s_000947.png to s3://projectbucket-udacity/test/minibike_s_000947.png\n",
      "upload: test/minibike_s_001473.png to s3://projectbucket-udacity/test/minibike_s_001473.png\n",
      "upload: test/minibike_s_000913.png to s3://projectbucket-udacity/test/minibike_s_000913.png\n",
      "upload: test/minibike_s_001089.png to s3://projectbucket-udacity/test/minibike_s_001089.png\n",
      "upload: test/minibike_s_000960.png to s3://projectbucket-udacity/test/minibike_s_000960.png\n",
      "upload: test/minibike_s_001547.png to s3://projectbucket-udacity/test/minibike_s_001547.png\n",
      "upload: test/minibike_s_001605.png to s3://projectbucket-udacity/test/minibike_s_001605.png\n",
      "upload: test/minibike_s_001732.png to s3://projectbucket-udacity/test/minibike_s_001732.png\n",
      "upload: test/minibike_s_001893.png to s3://projectbucket-udacity/test/minibike_s_001893.png\n",
      "upload: test/minibike_s_001651.png to s3://projectbucket-udacity/test/minibike_s_001651.png\n",
      "upload: test/minibike_s_002051.png to s3://projectbucket-udacity/test/minibike_s_002051.png\n",
      "upload: test/minibike_s_001867.png to s3://projectbucket-udacity/test/minibike_s_001867.png\n",
      "upload: test/minibike_s_002227.png to s3://projectbucket-udacity/test/minibike_s_002227.png\n",
      "upload: test/moped_s_000007.png to s3://projectbucket-udacity/test/moped_s_000007.png    \n",
      "upload: test/minibike_s_002230.png to s3://projectbucket-udacity/test/minibike_s_002230.png\n",
      "upload: test/minibike_s_002173.png to s3://projectbucket-udacity/test/minibike_s_002173.png\n",
      "upload: test/motorbike_s_000126.png to s3://projectbucket-udacity/test/motorbike_s_000126.png\n",
      "upload: test/motorbike_s_000005.png to s3://projectbucket-udacity/test/motorbike_s_000005.png\n",
      "upload: test/moped_s_000306.png to s3://projectbucket-udacity/test/moped_s_000306.png\n",
      "upload: test/motorbike_s_000324.png to s3://projectbucket-udacity/test/motorbike_s_000324.png\n",
      "upload: test/motorbike_s_000121.png to s3://projectbucket-udacity/test/motorbike_s_000121.png\n",
      "upload: test/motorbike_s_000333.png to s3://projectbucket-udacity/test/motorbike_s_000333.png\n",
      "upload: test/moped_s_000033.png to s3://projectbucket-udacity/test/moped_s_000033.png\n",
      "upload: test/motorbike_s_000433.png to s3://projectbucket-udacity/test/motorbike_s_000433.png\n",
      "upload: test/motorbike_s_000465.png to s3://projectbucket-udacity/test/motorbike_s_000465.png\n",
      "upload: test/motorbike_s_000135.png to s3://projectbucket-udacity/test/motorbike_s_000135.png\n",
      "upload: test/moped_s_000064.png to s3://projectbucket-udacity/test/moped_s_000064.png\n",
      "upload: test/motorbike_s_000629.png to s3://projectbucket-udacity/test/motorbike_s_000629.png\n",
      "upload: test/motorcycle_s_000007.png to s3://projectbucket-udacity/test/motorcycle_s_000007.png\n",
      "upload: test/motorcycle_s_000040.png to s3://projectbucket-udacity/test/motorcycle_s_000040.png\n",
      "upload: test/motorcycle_s_000060.png to s3://projectbucket-udacity/test/motorcycle_s_000060.png\n",
      "upload: test/motorcycle_s_000063.png to s3://projectbucket-udacity/test/motorcycle_s_000063.png\n",
      "upload: test/motorcycle_s_000171.png to s3://projectbucket-udacity/test/motorcycle_s_000171.png\n",
      "upload: test/motorcycle_s_000141.png to s3://projectbucket-udacity/test/motorcycle_s_000141.png\n",
      "upload: test/motorcycle_s_000139.png to s3://projectbucket-udacity/test/motorcycle_s_000139.png\n",
      "upload: test/motorcycle_s_000042.png to s3://projectbucket-udacity/test/motorcycle_s_000042.png\n",
      "upload: test/motorcycle_s_000222.png to s3://projectbucket-udacity/test/motorcycle_s_000222.png\n",
      "upload: test/motorcycle_s_000049.png to s3://projectbucket-udacity/test/motorcycle_s_000049.png\n",
      "upload: test/motorcycle_s_000211.png to s3://projectbucket-udacity/test/motorcycle_s_000211.png\n",
      "upload: test/motorcycle_s_000323.png to s3://projectbucket-udacity/test/motorcycle_s_000323.png\n",
      "upload: test/motorcycle_s_000352.png to s3://projectbucket-udacity/test/motorcycle_s_000352.png\n",
      "upload: test/motorcycle_s_000446.png to s3://projectbucket-udacity/test/motorcycle_s_000446.png\n",
      "upload: test/motorcycle_s_000450.png to s3://projectbucket-udacity/test/motorcycle_s_000450.png\n",
      "upload: test/motorcycle_s_000494.png to s3://projectbucket-udacity/test/motorcycle_s_000494.png\n",
      "upload: test/motorcycle_s_000427.png to s3://projectbucket-udacity/test/motorcycle_s_000427.png\n",
      "upload: test/motorcycle_s_000602.png to s3://projectbucket-udacity/test/motorcycle_s_000602.png\n",
      "upload: test/motorcycle_s_000485.png to s3://projectbucket-udacity/test/motorcycle_s_000485.png\n",
      "upload: test/motorcycle_s_000512.png to s3://projectbucket-udacity/test/motorcycle_s_000512.png\n",
      "upload: test/motorcycle_s_000530.png to s3://projectbucket-udacity/test/motorcycle_s_000530.png\n",
      "upload: test/motorcycle_s_000679.png to s3://projectbucket-udacity/test/motorcycle_s_000679.png\n",
      "upload: test/motorcycle_s_000615.png to s3://projectbucket-udacity/test/motorcycle_s_000615.png\n",
      "upload: test/motorcycle_s_000876.png to s3://projectbucket-udacity/test/motorcycle_s_000876.png\n",
      "upload: test/motorcycle_s_000866.png to s3://projectbucket-udacity/test/motorcycle_s_000866.png\n",
      "upload: test/motorcycle_s_000685.png to s3://projectbucket-udacity/test/motorcycle_s_000685.png\n",
      "upload: test/motorcycle_s_000606.png to s3://projectbucket-udacity/test/motorcycle_s_000606.png\n",
      "upload: test/motorcycle_s_000739.png to s3://projectbucket-udacity/test/motorcycle_s_000739.png\n",
      "upload: test/motorcycle_s_000878.png to s3://projectbucket-udacity/test/motorcycle_s_000878.png\n",
      "upload: test/motorcycle_s_000825.png to s3://projectbucket-udacity/test/motorcycle_s_000825.png\n",
      "upload: test/motorcycle_s_001348.png to s3://projectbucket-udacity/test/motorcycle_s_001348.png\n",
      "upload: test/motorcycle_s_001164.png to s3://projectbucket-udacity/test/motorcycle_s_001164.png\n",
      "upload: test/motorcycle_s_000963.png to s3://projectbucket-udacity/test/motorcycle_s_000963.png\n",
      "upload: test/motorcycle_s_000797.png to s3://projectbucket-udacity/test/motorcycle_s_000797.png\n",
      "upload: test/motorcycle_s_001249.png to s3://projectbucket-udacity/test/motorcycle_s_001249.png\n",
      "upload: test/motorcycle_s_001269.png to s3://projectbucket-udacity/test/motorcycle_s_001269.png\n",
      "upload: test/motorcycle_s_001261.png to s3://projectbucket-udacity/test/motorcycle_s_001261.png\n",
      "upload: test/motorcycle_s_001679.png to s3://projectbucket-udacity/test/motorcycle_s_001679.png\n",
      "upload: test/motorcycle_s_001385.png to s3://projectbucket-udacity/test/motorcycle_s_001385.png\n",
      "upload: test/motorcycle_s_001508.png to s3://projectbucket-udacity/test/motorcycle_s_001508.png\n",
      "upload: test/motorcycle_s_001519.png to s3://projectbucket-udacity/test/motorcycle_s_001519.png\n",
      "upload: test/motorcycle_s_001782.png to s3://projectbucket-udacity/test/motorcycle_s_001782.png\n",
      "upload: test/motorcycle_s_001892.png to s3://projectbucket-udacity/test/motorcycle_s_001892.png\n",
      "upload: test/motorcycle_s_001687.png to s3://projectbucket-udacity/test/motorcycle_s_001687.png\n",
      "upload: test/motorcycle_s_001971.png to s3://projectbucket-udacity/test/motorcycle_s_001971.png\n",
      "upload: test/motorcycle_s_001960.png to s3://projectbucket-udacity/test/motorcycle_s_001960.png\n",
      "upload: test/motorcycle_s_001906.png to s3://projectbucket-udacity/test/motorcycle_s_001906.png\n",
      "upload: test/motorcycle_s_001955.png to s3://projectbucket-udacity/test/motorcycle_s_001955.png\n",
      "upload: test/motorcycle_s_002126.png to s3://projectbucket-udacity/test/motorcycle_s_002126.png\n",
      "upload: test/motorcycle_s_001936.png to s3://projectbucket-udacity/test/motorcycle_s_001936.png\n",
      "upload: test/motorcycle_s_002026.png to s3://projectbucket-udacity/test/motorcycle_s_002026.png\n",
      "upload: test/motorcycle_s_002112.png to s3://projectbucket-udacity/test/motorcycle_s_002112.png\n",
      "upload: test/ordinary_bicycle_s_000169.png to s3://projectbucket-udacity/test/ordinary_bicycle_s_000169.png\n",
      "upload: test/ordinary_bicycle_s_000431.png to s3://projectbucket-udacity/test/ordinary_bicycle_s_000431.png\n",
      "upload: test/ordinary_bicycle_s_000158.png to s3://projectbucket-udacity/test/ordinary_bicycle_s_000158.png\n",
      "upload: test/ordinary_bicycle_s_000284.png to s3://projectbucket-udacity/test/ordinary_bicycle_s_000284.png\n",
      "upload: test/safety_bicycle_s_000235.png to s3://projectbucket-udacity/test/safety_bicycle_s_000235.png\n",
      "upload: test/ordinary_bicycle_s_000437.png to s3://projectbucket-udacity/test/ordinary_bicycle_s_000437.png\n",
      "upload: test/ordinary_bicycle_s_000350.png to s3://projectbucket-udacity/test/ordinary_bicycle_s_000350.png\n",
      "upload: test/ordinary_bicycle_s_000105.png to s3://projectbucket-udacity/test/ordinary_bicycle_s_000105.png\n",
      "upload: test/ordinary_bicycle_s_000113.png to s3://projectbucket-udacity/test/ordinary_bicycle_s_000113.png\n",
      "upload: test/motorcycle_s_002177.png to s3://projectbucket-udacity/test/motorcycle_s_002177.png\n",
      "upload: test/safety_bicycle_s_000280.png to s3://projectbucket-udacity/test/safety_bicycle_s_000280.png\n",
      "upload: test/safety_bicycle_s_001322.png to s3://projectbucket-udacity/test/safety_bicycle_s_001322.png\n",
      "upload: test/safety_bike_s_000438.png to s3://projectbucket-udacity/test/safety_bike_s_000438.png\n",
      "upload: test/safety_bicycle_s_001286.png to s3://projectbucket-udacity/test/safety_bicycle_s_001286.png\n",
      "upload: test/safety_bike_s_000390.png to s3://projectbucket-udacity/test/safety_bike_s_000390.png\n",
      "upload: test/safety_bike_s_000488.png to s3://projectbucket-udacity/test/safety_bike_s_000488.png\n",
      "upload: test/safety_bicycle_s_001575.png to s3://projectbucket-udacity/test/safety_bicycle_s_001575.png\n",
      "upload: test/safety_bike_s_000540.png to s3://projectbucket-udacity/test/safety_bike_s_000540.png\n",
      "upload: test/safety_bike_s_000541.png to s3://projectbucket-udacity/test/safety_bike_s_000541.png\n",
      "upload: test/safety_bike_s_000192.png to s3://projectbucket-udacity/test/safety_bike_s_000192.png\n",
      "upload: test/safety_bicycle_s_001153.png to s3://projectbucket-udacity/test/safety_bicycle_s_001153.png\n",
      "upload: test/safety_bike_s_000699.png to s3://projectbucket-udacity/test/safety_bike_s_000699.png\n",
      "upload: test/safety_bike_s_001253.png to s3://projectbucket-udacity/test/safety_bike_s_001253.png\n",
      "upload: test/safety_bike_s_001065.png to s3://projectbucket-udacity/test/safety_bike_s_001065.png\n",
      "upload: test/safety_bike_s_001481.png to s3://projectbucket-udacity/test/safety_bike_s_001481.png\n",
      "upload: test/safety_bike_s_001088.png to s3://projectbucket-udacity/test/safety_bike_s_001088.png\n",
      "upload: test/safety_bike_s_000791.png to s3://projectbucket-udacity/test/safety_bike_s_000791.png\n",
      "upload: test/trail_bike_s_000073.png to s3://projectbucket-udacity/test/trail_bike_s_000073.png\n",
      "upload: test/safety_bike_s_001132.png to s3://projectbucket-udacity/test/safety_bike_s_001132.png\n",
      "upload: test/safety_bike_s_001087.png to s3://projectbucket-udacity/test/safety_bike_s_001087.png\n",
      "upload: test/safety_bike_s_001690.png to s3://projectbucket-udacity/test/safety_bike_s_001690.png\n",
      "upload: test/velocipede_s_000369.png to s3://projectbucket-udacity/test/velocipede_s_000369.png\n",
      "upload: test/velocipede_s_000863.png to s3://projectbucket-udacity/test/velocipede_s_000863.png\n",
      "upload: test/velocipede_s_000001.png to s3://projectbucket-udacity/test/velocipede_s_000001.png\n",
      "upload: test/velocipede_s_000041.png to s3://projectbucket-udacity/test/velocipede_s_000041.png\n",
      "upload: test/velocipede_s_000106.png to s3://projectbucket-udacity/test/velocipede_s_000106.png\n",
      "upload: test/velocipede_s_001277.png to s3://projectbucket-udacity/test/velocipede_s_001277.png\n",
      "upload: test/velocipede_s_001201.png to s3://projectbucket-udacity/test/velocipede_s_001201.png\n",
      "upload: test/velocipede_s_000292.png to s3://projectbucket-udacity/test/velocipede_s_000292.png\n",
      "upload: test/velocipede_s_001232.png to s3://projectbucket-udacity/test/velocipede_s_001232.png\n",
      "upload: test/velocipede_s_001335.png to s3://projectbucket-udacity/test/velocipede_s_001335.png\n",
      "upload: test/velocipede_s_001790.png to s3://projectbucket-udacity/test/velocipede_s_001790.png\n",
      "upload: test/velocipede_s_001379.png to s3://projectbucket-udacity/test/velocipede_s_001379.png\n",
      "upload: test/velocipede_s_001744.png to s3://projectbucket-udacity/test/velocipede_s_001744.png\n",
      "upload: test/velocipede_s_001699.png to s3://projectbucket-udacity/test/velocipede_s_001699.png\n",
      "upload: test/velocipede_s_001633.png to s3://projectbucket-udacity/test/velocipede_s_001633.png\n",
      "upload: test/velocipede_s_001355.png to s3://projectbucket-udacity/test/velocipede_s_001355.png\n",
      "upload: test/safety_bicycle_s_000315.png to s3://projectbucket-udacity/test/safety_bicycle_s_000315.png\n",
      "upload: test/velocipede_s_001466.png to s3://projectbucket-udacity/test/velocipede_s_001466.png\n",
      "done\n"
     ]
    }
   ],
   "source": [
    "import os\n",
    "\n",
    "os.environ[\"DEFAULT_S3_BUCKET\"] = bucket\n",
    "!aws s3 sync ./train s3://${DEFAULT_S3_BUCKET}/train/;\n",
    "!aws s3 sync ./test s3://${DEFAULT_S3_BUCKET}/test/;\n",
    "print(\"done\")"
   ]
  },
  {
   "cell_type": "markdown",
   "metadata": {},
   "source": [
    "And that's it! You can check the bucket and verify that the items were uploaded.\n",
    "\n",
    "## Model Training\n",
    "\n",
    "For Image Classification, Sagemaker [also expects metadata](https://docs.aws.amazon.com/sagemaker/latest/dg/image-classification.html) e.g. in the form of TSV files with labels and filepaths. We can generate these using our Pandas DataFrames from earlier:"
   ]
  },
  {
   "cell_type": "code",
   "execution_count": 49,
   "metadata": {
    "tags": []
   },
   "outputs": [],
   "source": [
    "import pandas as pd\n"
   ]
  },
  {
   "cell_type": "code",
   "execution_count": 50,
   "metadata": {},
   "outputs": [],
   "source": [
    "def to_metadata_file(df, prefix):\n",
    "    df[\"s3_path\"] = df[\"filenames\"]\n",
    "    df[\"labels\"] = df[\"labels\"].apply(lambda x: 0 if x==8 else 1)\n",
    "    return df[[\"row\", \"labels\", \"s3_path\"]].to_csv(\n",
    "        f\"{prefix}.lst\", sep=\"\\t\", index=False, header=False\n",
    "    )\n",
    "    \n",
    "to_metadata_file(df_train.copy(), \"train\")\n",
    "to_metadata_file(df_test.copy(), \"test\")"
   ]
  },
  {
   "cell_type": "markdown",
   "metadata": {},
   "source": [
    "We can also upload our manifest files:"
   ]
  },
  {
   "cell_type": "code",
   "execution_count": 51,
   "metadata": {},
   "outputs": [],
   "source": [
    "import boto3\n",
    "\n",
    "# Upload files\n",
    "boto3.Session().resource('s3').Bucket(\n",
    "    bucket).Object('train.lst').upload_file('./train.lst')\n",
    "boto3.Session().resource('s3').Bucket(\n",
    "    bucket).Object('test.lst').upload_file('./test.lst')"
   ]
  },
  {
   "cell_type": "markdown",
   "metadata": {},
   "source": [
    "Using the `bucket` and `region` info we can get the latest prebuilt container to run our training job, and define an output location on our s3 bucket for the model. Use the `image_uris` function from the SageMaker SDK to retrieve the latest `image-classification` image below:"
   ]
  },
  {
   "cell_type": "code",
   "execution_count": 7,
   "metadata": {
    "tags": []
   },
   "outputs": [],
   "source": [
    "# Use the image_uris function to retrieve the latest 'image-classification' image\n",
    "algo_image = sagemaker.image_uris.retrieve('image-classification', region=region, image_scope = 'training')\n",
    "#algo_image = sagemaker.image_uris.retrieve(framework = \"mxnet\",region = region, version = \"1.9\",image_scope = \"training\", py_version = \"py3\", instance_type = \"ml.p3.2xlarge\")\n",
    "#algo_image = sagemaker.image_uris.retrieve(framework = \"mxnet\",region = region, version = \"1.9\",image_scope = \"training\", py_version = \"py38\", instance_type = \"ml.p3.2xlarge\")## TODO: fill in\n",
    "s3_output_location = f\"s3://{bucket}/models/image_model\""
   ]
  },
  {
   "cell_type": "markdown",
   "metadata": {},
   "source": [
    "We're ready to create an estimator! Create an estimator `img_classifier_model` that uses one instance of `ml.p3.2xlarge`. Ensure that y ou use the output location we defined above - we'll be referring to that later!"
   ]
  },
  {
   "cell_type": "code",
   "execution_count": 8,
   "metadata": {},
   "outputs": [],
   "source": [
    "img_classifier_model=sagemaker.estimator.Estimator(\n",
    "    image_uri = algo_image,\n",
    "    instance_type = \"ml.p3.2xlarge\",\n",
    "    instance_count = 1,\n",
    "    output_path = s3_output_location,\n",
    "    role = role,\n",
    "    sagemaker_session = sagemaker.Session()\n",
    "    ## TODO: define your estimator options    \n",
    ")"
   ]
  },
  {
   "cell_type": "markdown",
   "metadata": {},
   "source": [
    "We can also set a few key hyperparameters and define the inputs for our model:"
   ]
  },
  {
   "cell_type": "code",
   "execution_count": 9,
   "metadata": {},
   "outputs": [],
   "source": [
    "img_classifier_model.set_hyperparameters(\n",
    "    image_shape= '3,32,32', # TODO: Fill in\n",
    "    num_classes= 2, # TODO: Fill in\n",
    "    num_training_samples= 1000# TODO: fill in\n",
    ")"
   ]
  },
  {
   "cell_type": "markdown",
   "metadata": {},
   "source": [
    "The `image-classification` image uses four input channels with very specific input parameters. For convenience, we've provided them below:"
   ]
  },
  {
   "cell_type": "code",
   "execution_count": 10,
   "metadata": {},
   "outputs": [],
   "source": [
    "from sagemaker.debugger import Rule, rule_configs\n",
    "from sagemaker.session import TrainingInput\n",
    "model_inputs = {\n",
    "        \"train\": sagemaker.inputs.TrainingInput(\n",
    "            s3_data=f\"s3://{bucket}/train/\",\n",
    "            content_type=\"application/x-image\"\n",
    "        ),\n",
    "        \"validation\": sagemaker.inputs.TrainingInput(\n",
    "            s3_data=f\"s3://{bucket}/test/\",\n",
    "            content_type=\"application/x-image\"\n",
    "        ),\n",
    "        \"train_lst\": sagemaker.inputs.TrainingInput(\n",
    "            s3_data=f\"s3://{bucket}/train.lst\",\n",
    "            content_type=\"application/x-image\"\n",
    "        ),\n",
    "        \"validation_lst\": sagemaker.inputs.TrainingInput(\n",
    "            s3_data=f\"s3://{bucket}/test.lst\",\n",
    "            content_type=\"application/x-image\"\n",
    "        )\n",
    "}"
   ]
  },
  {
   "cell_type": "markdown",
   "metadata": {},
   "source": [
    "Great, now we can train the model using the model_inputs. In the cell below, call the `fit` method on our model,:"
   ]
  },
  {
   "cell_type": "code",
   "execution_count": 11,
   "metadata": {
    "collapsed": true,
    "jupyter": {
     "outputs_hidden": true
    },
    "tags": []
   },
   "outputs": [
    {
     "name": "stderr",
     "output_type": "stream",
     "text": [
      "INFO:sagemaker:Creating training-job with name: image-classification-2023-10-08-20-40-01-767\n"
     ]
    },
    {
     "name": "stdout",
     "output_type": "stream",
     "text": [
      "2023-10-08 20:40:01 Starting - Starting the training job...\n",
      "2023-10-08 20:40:28 Starting - Preparing the instances for training......\n",
      "2023-10-08 20:41:27 Downloading - Downloading input data...\n",
      "2023-10-08 20:41:53 Training - Downloading the training image..................\n",
      "2023-10-08 20:45:04 Training - Training image download completed. Training in progress.....\u001b[34mDocker entrypoint called with argument(s): train\u001b[0m\n",
      "\u001b[34mRunning default environment configuration script\u001b[0m\n",
      "\u001b[34mNvidia gpu devices, drivers and cuda toolkit versions (only available on hosts with GPU):\u001b[0m\n",
      "\u001b[34mSun Oct  8 20:45:31 2023       \u001b[0m\n",
      "\u001b[34m+---------------------------------------------------------------------------------------+\u001b[0m\n",
      "\u001b[34m| NVIDIA-SMI 535.104.12             Driver Version: 535.104.12   CUDA Version: 12.2     |\u001b[0m\n",
      "\u001b[34m|-----------------------------------------+----------------------+----------------------+\u001b[0m\n",
      "\u001b[34m| GPU  Name                 Persistence-M | Bus-Id        Disp.A | Volatile Uncorr. ECC |\u001b[0m\n",
      "\u001b[34m| Fan  Temp   Perf          Pwr:Usage/Cap |         Memory-Usage | GPU-Util  Compute M. |\u001b[0m\n",
      "\u001b[34m|                                         |                      |               MIG M. |\u001b[0m\n",
      "\u001b[34m|=========================================+======================+======================|\u001b[0m\n",
      "\u001b[34m|   0  Tesla V100-SXM2-16GB           On  | 00000000:00:1E.0 Off |                    0 |\u001b[0m\n",
      "\u001b[34m| N/A   28C    P0              23W / 300W |      0MiB / 16384MiB |      0%      Default |\u001b[0m\n",
      "\u001b[34m|                                         |                      |                  N/A |\u001b[0m\n",
      "\u001b[34m+-----------------------------------------+----------------------+----------------------+\n",
      "                                                                                         \u001b[0m\n",
      "\u001b[34m+---------------------------------------------------------------------------------------+\u001b[0m\n",
      "\u001b[34m| Processes:                                                                            |\u001b[0m\n",
      "\u001b[34m|  GPU   GI   CI        PID   Type   Process name                            GPU Memory |\u001b[0m\n",
      "\u001b[34m|        ID   ID                                                             Usage      |\u001b[0m\n",
      "\u001b[34m|=======================================================================================|\u001b[0m\n",
      "\u001b[34m|  No running processes found                                                           |\u001b[0m\n",
      "\u001b[34m+---------------------------------------------------------------------------------------+\u001b[0m\n",
      "\u001b[34mChecking for nvidia driver and cuda compatibility.\u001b[0m\n",
      "\u001b[34mCUDA Compatibility driver provided.\u001b[0m\n",
      "\u001b[34mProceeding with compatibility check between driver, cuda-toolkit and cuda-compat.\u001b[0m\n",
      "\u001b[34mDetected cuda-toolkit version: 11.1.\u001b[0m\n",
      "\u001b[34mDetected cuda-compat version: 455.32.00.\u001b[0m\n",
      "\u001b[34mDetected Nvidia driver version: 535.104.12.\u001b[0m\n",
      "\u001b[34mNvidia driver compatible with cuda-toolkit. Disabling cuda-compat.\u001b[0m\n",
      "\u001b[34m[10/08/2023 20:45:35 INFO 139964833281856] Reading default configuration from /opt/amazon/lib/python3.7/site-packages/image_classification/default-input.json: {'use_pretrained_model': 0, 'num_layers': 152, 'epochs': 30, 'learning_rate': 0.1, 'lr_scheduler_factor': 0.1, 'optimizer': 'sgd', 'momentum': 0, 'weight_decay': 0.0001, 'beta_1': 0.9, 'beta_2': 0.999, 'eps': 1e-08, 'gamma': 0.9, 'mini_batch_size': 32, 'image_shape': '3,224,224', 'precision_dtype': 'float32'}\u001b[0m\n",
      "\u001b[34m[10/08/2023 20:45:35 INFO 139964833281856] Merging with provided configuration from /opt/ml/input/config/hyperparameters.json: {'image_shape': '3,32,32', 'num_classes': '2', 'num_training_samples': '1000'}\u001b[0m\n",
      "\u001b[34m[10/08/2023 20:45:35 INFO 139964833281856] Final configuration: {'use_pretrained_model': 0, 'num_layers': 152, 'epochs': 30, 'learning_rate': 0.1, 'lr_scheduler_factor': 0.1, 'optimizer': 'sgd', 'momentum': 0, 'weight_decay': 0.0001, 'beta_1': 0.9, 'beta_2': 0.999, 'eps': 1e-08, 'gamma': 0.9, 'mini_batch_size': 32, 'image_shape': '3,32,32', 'precision_dtype': 'float32', 'num_classes': '2', 'num_training_samples': '1000'}\u001b[0m\n",
      "\u001b[34m[10/08/2023 20:45:35 INFO 139964833281856] Searching for .lst files in /opt/ml/input/data/train_lst.\u001b[0m\n",
      "\u001b[34m[10/08/2023 20:45:35 INFO 139964833281856] Creating record files for train.lst\u001b[0m\n",
      "\u001b[34m[10/08/2023 20:45:35 INFO 139964833281856] Done creating record files...\u001b[0m\n",
      "\u001b[34m[10/08/2023 20:45:35 INFO 139964833281856] Searching for .lst files in /opt/ml/input/data/validation_lst.\u001b[0m\n",
      "\u001b[34m[10/08/2023 20:45:35 INFO 139964833281856] Creating record files for test.lst\u001b[0m\n",
      "\u001b[34m[10/08/2023 20:45:35 INFO 139964833281856] Done creating record files...\u001b[0m\n",
      "\u001b[34m[10/08/2023 20:45:35 INFO 139964833281856] use_pretrained_model: 0\u001b[0m\n",
      "\u001b[34m[10/08/2023 20:45:35 INFO 139964833281856] multi_label: 0\u001b[0m\n",
      "\u001b[34m[10/08/2023 20:45:35 INFO 139964833281856] Performing random weight initialization\u001b[0m\n",
      "\u001b[34m[10/08/2023 20:45:35 INFO 139964833281856] ---- Parameters ----\u001b[0m\n",
      "\u001b[34m[10/08/2023 20:45:35 INFO 139964833281856] num_layers: 152\u001b[0m\n",
      "\u001b[34m[10/08/2023 20:45:35 INFO 139964833281856] data type: <class 'numpy.float32'>\u001b[0m\n",
      "\u001b[34m[10/08/2023 20:45:35 INFO 139964833281856] epochs: 30\u001b[0m\n",
      "\u001b[34m[10/08/2023 20:45:35 INFO 139964833281856] optimizer: sgd\u001b[0m\n",
      "\u001b[34m[10/08/2023 20:45:35 INFO 139964833281856] momentum: 0.9\u001b[0m\n",
      "\u001b[34m[10/08/2023 20:45:35 INFO 139964833281856] weight_decay: 0.0001\u001b[0m\n",
      "\u001b[34m[10/08/2023 20:45:35 INFO 139964833281856] learning_rate: 0.1\u001b[0m\n",
      "\u001b[34m[10/08/2023 20:45:35 INFO 139964833281856] num_training_samples: 1000\u001b[0m\n",
      "\u001b[34m[10/08/2023 20:45:35 INFO 139964833281856] mini_batch_size: 32\u001b[0m\n",
      "\u001b[34m[10/08/2023 20:45:35 INFO 139964833281856] image_shape: 3,32,32\u001b[0m\n",
      "\u001b[34m[10/08/2023 20:45:35 INFO 139964833281856] num_classes: 2\u001b[0m\n",
      "\u001b[34m[10/08/2023 20:45:35 INFO 139964833281856] augmentation_type: None\u001b[0m\n",
      "\u001b[34m[10/08/2023 20:45:35 INFO 139964833281856] kv_store: device\u001b[0m\n",
      "\u001b[34m[10/08/2023 20:45:35 INFO 139964833281856] checkpoint_frequency not set, will store the best model\u001b[0m\n",
      "\u001b[34m[10/08/2023 20:45:35 INFO 139964833281856] --------------------\u001b[0m\n",
      "\u001b[34m[10/08/2023 20:45:35 INFO 139964833281856] Setting number of threads: 7\u001b[0m\n",
      "\u001b[34m[20:45:39] /opt/brazil-pkg-cache/packages/AIAlgorithmsMXNet/AIAlgorithmsMXNet-1.4.x_ecl_Cuda_11.1.x.231.0/AL2_x86_64/generic-flavor/src/src/operator/nn/./cudnn/./cudnn_algoreg-inl.h:97: Running performance tests to find the best convolution algorithm, this can take a while... (setting env variable MXNET_CUDNN_AUTOTUNE_DEFAULT to 0 to disable)\u001b[0m\n",
      "\u001b[34m[10/08/2023 20:45:44 INFO 139964833281856] Epoch[0] Batch [20]#011Speed: 124.309 samples/sec#011accuracy=0.614583\u001b[0m\n",
      "\u001b[34m[10/08/2023 20:45:46 INFO 139964833281856] Epoch[0] Train-accuracy=0.648185\u001b[0m\n",
      "\u001b[34m[10/08/2023 20:45:46 INFO 139964833281856] Epoch[0] Time cost=6.777\u001b[0m\n",
      "\u001b[34m[10/08/2023 20:45:46 INFO 139964833281856] Epoch[0] Validation-accuracy=0.494792\u001b[0m\n",
      "\u001b[34m[10/08/2023 20:45:46 INFO 139964833281856] Storing the best model with validation accuracy: 0.494792\u001b[0m\n",
      "\u001b[34m[10/08/2023 20:45:47 INFO 139964833281856] Saved checkpoint to \"/opt/ml/model/image-classification-0001.params\"\u001b[0m\n",
      "\u001b[34m[10/08/2023 20:45:50 INFO 139964833281856] Epoch[1] Batch [20]#011Speed: 188.277 samples/sec#011accuracy=0.754464\u001b[0m\n",
      "\u001b[34m[10/08/2023 20:45:52 INFO 139964833281856] Epoch[1] Train-accuracy=0.734879\u001b[0m\n",
      "\u001b[34m[10/08/2023 20:45:52 INFO 139964833281856] Epoch[1] Time cost=5.039\u001b[0m\n",
      "\u001b[34m[10/08/2023 20:45:52 INFO 139964833281856] Epoch[1] Validation-accuracy=0.583333\u001b[0m\n",
      "\u001b[34m[10/08/2023 20:45:53 INFO 139964833281856] Storing the best model with validation accuracy: 0.583333\u001b[0m\n",
      "\u001b[34m[10/08/2023 20:45:53 INFO 139964833281856] Saved checkpoint to \"/opt/ml/model/image-classification-0002.params\"\u001b[0m\n",
      "\u001b[34m[10/08/2023 20:45:56 INFO 139964833281856] Epoch[2] Batch [20]#011Speed: 192.492 samples/sec#011accuracy=0.675595\u001b[0m\n",
      "\u001b[34m[10/08/2023 20:45:58 INFO 139964833281856] Epoch[2] Train-accuracy=0.682460\u001b[0m\n",
      "\u001b[34m[10/08/2023 20:45:58 INFO 139964833281856] Epoch[2] Time cost=4.967\u001b[0m\n",
      "\u001b[34m[10/08/2023 20:45:59 INFO 139964833281856] Epoch[2] Validation-accuracy=0.755208\u001b[0m\n",
      "\u001b[34m[10/08/2023 20:45:59 INFO 139964833281856] Storing the best model with validation accuracy: 0.755208\u001b[0m\n",
      "\u001b[34m[10/08/2023 20:45:59 INFO 139964833281856] Saved checkpoint to \"/opt/ml/model/image-classification-0003.params\"\u001b[0m\n",
      "\u001b[34m[10/08/2023 20:46:03 INFO 139964833281856] Epoch[3] Batch [20]#011Speed: 190.439 samples/sec#011accuracy=0.711310\u001b[0m\n",
      "\u001b[34m[10/08/2023 20:46:04 INFO 139964833281856] Epoch[3] Train-accuracy=0.743952\u001b[0m\n",
      "\u001b[34m[10/08/2023 20:46:04 INFO 139964833281856] Epoch[3] Time cost=5.053\u001b[0m\n",
      "\u001b[34m[10/08/2023 20:46:05 INFO 139964833281856] Epoch[3] Validation-accuracy=0.763393\u001b[0m\n",
      "\u001b[34m[10/08/2023 20:46:05 INFO 139964833281856] Storing the best model with validation accuracy: 0.763393\u001b[0m\n",
      "\u001b[34m[10/08/2023 20:46:06 INFO 139964833281856] Saved checkpoint to \"/opt/ml/model/image-classification-0004.params\"\u001b[0m\n",
      "\u001b[34m[10/08/2023 20:46:09 INFO 139964833281856] Epoch[4] Batch [20]#011Speed: 192.130 samples/sec#011accuracy=0.809524\u001b[0m\n",
      "\u001b[34m[10/08/2023 20:46:10 INFO 139964833281856] Epoch[4] Train-accuracy=0.798387\u001b[0m\n",
      "\u001b[34m[10/08/2023 20:46:10 INFO 139964833281856] Epoch[4] Time cost=4.958\u001b[0m\n",
      "\u001b[34m[10/08/2023 20:46:11 INFO 139964833281856] Epoch[4] Validation-accuracy=0.760417\u001b[0m\n",
      "\u001b[34m[10/08/2023 20:46:15 INFO 139964833281856] Epoch[5] Batch [20]#011Speed: 191.492 samples/sec#011accuracy=0.784226\u001b[0m\n",
      "\u001b[34m[10/08/2023 20:46:16 INFO 139964833281856] Epoch[5] Train-accuracy=0.783266\u001b[0m\n",
      "\u001b[34m[10/08/2023 20:46:16 INFO 139964833281856] Epoch[5] Time cost=4.962\u001b[0m\n",
      "\u001b[34m[10/08/2023 20:46:17 INFO 139964833281856] Epoch[5] Validation-accuracy=0.786458\u001b[0m\n",
      "\u001b[34m[10/08/2023 20:46:17 INFO 139964833281856] Storing the best model with validation accuracy: 0.786458\u001b[0m\n",
      "\u001b[34m[10/08/2023 20:46:18 INFO 139964833281856] Saved checkpoint to \"/opt/ml/model/image-classification-0006.params\"\u001b[0m\n",
      "\u001b[34m[10/08/2023 20:46:21 INFO 139964833281856] Epoch[6] Batch [20]#011Speed: 193.297 samples/sec#011accuracy=0.802083\u001b[0m\n",
      "\u001b[34m[10/08/2023 20:46:22 INFO 139964833281856] Epoch[6] Train-accuracy=0.810484\u001b[0m\n",
      "\u001b[34m[10/08/2023 20:46:22 INFO 139964833281856] Epoch[6] Time cost=4.931\u001b[0m\n",
      "\u001b[34m[10/08/2023 20:46:23 INFO 139964833281856] Epoch[6] Validation-accuracy=0.802083\u001b[0m\n",
      "\u001b[34m[10/08/2023 20:46:23 INFO 139964833281856] Storing the best model with validation accuracy: 0.802083\u001b[0m\n",
      "\u001b[34m[10/08/2023 20:46:24 INFO 139964833281856] Saved checkpoint to \"/opt/ml/model/image-classification-0007.params\"\u001b[0m\n",
      "\u001b[34m[10/08/2023 20:46:27 INFO 139964833281856] Epoch[7] Batch [20]#011Speed: 191.499 samples/sec#011accuracy=0.799107\u001b[0m\n",
      "\u001b[34m[10/08/2023 20:46:29 INFO 139964833281856] Epoch[7] Train-accuracy=0.817540\u001b[0m\n",
      "\u001b[34m[10/08/2023 20:46:29 INFO 139964833281856] Epoch[7] Time cost=4.969\u001b[0m\n",
      "\u001b[34m[10/08/2023 20:46:29 INFO 139964833281856] Epoch[7] Validation-accuracy=0.776786\u001b[0m\n",
      "\u001b[34m[10/08/2023 20:46:33 INFO 139964833281856] Epoch[8] Batch [20]#011Speed: 191.461 samples/sec#011accuracy=0.825893\u001b[0m\n",
      "\u001b[34m[10/08/2023 20:46:35 INFO 139964833281856] Epoch[8] Train-accuracy=0.827621\u001b[0m\n",
      "\u001b[34m[10/08/2023 20:46:35 INFO 139964833281856] Epoch[8] Time cost=4.970\u001b[0m\n",
      "\u001b[34m[10/08/2023 20:46:35 INFO 139964833281856] Epoch[8] Validation-accuracy=0.848958\u001b[0m\n",
      "\u001b[34m[10/08/2023 20:46:35 INFO 139964833281856] Storing the best model with validation accuracy: 0.848958\u001b[0m\n",
      "\u001b[34m[10/08/2023 20:46:36 INFO 139964833281856] Saved checkpoint to \"/opt/ml/model/image-classification-0009.params\"\u001b[0m\n",
      "\u001b[34m[10/08/2023 20:46:39 INFO 139964833281856] Epoch[9] Batch [20]#011Speed: 191.416 samples/sec#011accuracy=0.857143\u001b[0m\n",
      "\u001b[34m[10/08/2023 20:46:41 INFO 139964833281856] Epoch[9] Train-accuracy=0.856855\u001b[0m\n",
      "\u001b[34m[10/08/2023 20:46:41 INFO 139964833281856] Epoch[9] Time cost=4.997\u001b[0m\n",
      "\u001b[34m[10/08/2023 20:46:41 INFO 139964833281856] Epoch[9] Validation-accuracy=0.864583\u001b[0m\n",
      "\u001b[34m[10/08/2023 20:46:42 INFO 139964833281856] Storing the best model with validation accuracy: 0.864583\u001b[0m\n",
      "\u001b[34m[10/08/2023 20:46:42 INFO 139964833281856] Saved checkpoint to \"/opt/ml/model/image-classification-0010.params\"\u001b[0m\n",
      "\u001b[34m[10/08/2023 20:46:45 INFO 139964833281856] Epoch[10] Batch [20]#011Speed: 189.490 samples/sec#011accuracy=0.879464\u001b[0m\n",
      "\u001b[34m[10/08/2023 20:46:47 INFO 139964833281856] Epoch[10] Train-accuracy=0.866935\u001b[0m\n",
      "\u001b[34m[10/08/2023 20:46:47 INFO 139964833281856] Epoch[10] Time cost=5.004\u001b[0m\n",
      "\u001b[34m[10/08/2023 20:46:47 INFO 139964833281856] Epoch[10] Validation-accuracy=0.791667\u001b[0m\n",
      "\u001b[34m[10/08/2023 20:46:51 INFO 139964833281856] Epoch[11] Batch [20]#011Speed: 193.265 samples/sec#011accuracy=0.876488\u001b[0m\n",
      "\u001b[34m[10/08/2023 20:46:53 INFO 139964833281856] Epoch[11] Train-accuracy=0.862903\u001b[0m\n",
      "\u001b[34m[10/08/2023 20:46:53 INFO 139964833281856] Epoch[11] Time cost=4.926\u001b[0m\n",
      "\u001b[34m[10/08/2023 20:46:53 INFO 139964833281856] Epoch[11] Validation-accuracy=0.861607\u001b[0m\n",
      "\u001b[34m[10/08/2023 20:46:57 INFO 139964833281856] Epoch[12] Batch [20]#011Speed: 192.770 samples/sec#011accuracy=0.910714\u001b[0m\n",
      "\u001b[34m[10/08/2023 20:46:59 INFO 139964833281856] Epoch[12] Train-accuracy=0.902218\u001b[0m\n",
      "\u001b[34m[10/08/2023 20:46:59 INFO 139964833281856] Epoch[12] Time cost=4.974\u001b[0m\n",
      "\u001b[34m[10/08/2023 20:46:59 INFO 139964833281856] Epoch[12] Validation-accuracy=0.828125\u001b[0m\n",
      "\u001b[34m[10/08/2023 20:47:03 INFO 139964833281856] Epoch[13] Batch [20]#011Speed: 187.967 samples/sec#011accuracy=0.863095\u001b[0m\n",
      "\u001b[34m[10/08/2023 20:47:05 INFO 139964833281856] Epoch[13] Train-accuracy=0.871976\u001b[0m\n",
      "\u001b[34m[10/08/2023 20:47:05 INFO 139964833281856] Epoch[13] Time cost=5.049\u001b[0m\n",
      "\u001b[34m[10/08/2023 20:47:05 INFO 139964833281856] Epoch[13] Validation-accuracy=0.843750\u001b[0m\n",
      "\u001b[34m[10/08/2023 20:47:09 INFO 139964833281856] Epoch[14] Batch [20]#011Speed: 193.734 samples/sec#011accuracy=0.930060\u001b[0m\n",
      "\u001b[34m[10/08/2023 20:47:11 INFO 139964833281856] Epoch[14] Train-accuracy=0.918347\u001b[0m\n",
      "\u001b[34m[10/08/2023 20:47:11 INFO 139964833281856] Epoch[14] Time cost=4.920\u001b[0m\n",
      "\u001b[34m[10/08/2023 20:47:11 INFO 139964833281856] Epoch[14] Validation-accuracy=0.828125\u001b[0m\n",
      "\u001b[34m[10/08/2023 20:47:15 INFO 139964833281856] Epoch[15] Batch [20]#011Speed: 192.465 samples/sec#011accuracy=0.930060\u001b[0m\n",
      "\u001b[34m[10/08/2023 20:47:17 INFO 139964833281856] Epoch[15] Train-accuracy=0.920363\u001b[0m\n",
      "\u001b[34m[10/08/2023 20:47:17 INFO 139964833281856] Epoch[15] Time cost=4.956\u001b[0m\n",
      "\u001b[34m[10/08/2023 20:47:17 INFO 139964833281856] Epoch[15] Validation-accuracy=0.816964\u001b[0m\n",
      "\u001b[34m[10/08/2023 20:47:21 INFO 139964833281856] Epoch[16] Batch [20]#011Speed: 192.025 samples/sec#011accuracy=0.918155\u001b[0m\n",
      "\u001b[34m[10/08/2023 20:47:23 INFO 139964833281856] Epoch[16] Train-accuracy=0.907258\u001b[0m\n",
      "\u001b[34m[10/08/2023 20:47:23 INFO 139964833281856] Epoch[16] Time cost=4.981\u001b[0m\n",
      "\u001b[34m[10/08/2023 20:47:23 INFO 139964833281856] Epoch[16] Validation-accuracy=0.822917\u001b[0m\n",
      "\u001b[34m[10/08/2023 20:47:27 INFO 139964833281856] Epoch[17] Batch [20]#011Speed: 193.870 samples/sec#011accuracy=0.949405\u001b[0m\n",
      "\u001b[34m[10/08/2023 20:47:29 INFO 139964833281856] Epoch[17] Train-accuracy=0.948589\u001b[0m\n",
      "\u001b[34m[10/08/2023 20:47:29 INFO 139964833281856] Epoch[17] Time cost=4.932\u001b[0m\n",
      "\u001b[34m[10/08/2023 20:47:29 INFO 139964833281856] Epoch[17] Validation-accuracy=0.875000\u001b[0m\n",
      "\u001b[34m[10/08/2023 20:47:29 INFO 139964833281856] Storing the best model with validation accuracy: 0.875000\u001b[0m\n",
      "\u001b[34m[10/08/2023 20:47:30 INFO 139964833281856] Saved checkpoint to \"/opt/ml/model/image-classification-0018.params\"\u001b[0m\n",
      "\u001b[34m[10/08/2023 20:47:33 INFO 139964833281856] Epoch[18] Batch [20]#011Speed: 191.672 samples/sec#011accuracy=0.892857\u001b[0m\n",
      "\u001b[34m[10/08/2023 20:47:35 INFO 139964833281856] Epoch[18] Train-accuracy=0.908266\u001b[0m\n",
      "\u001b[34m[10/08/2023 20:47:35 INFO 139964833281856] Epoch[18] Time cost=4.987\u001b[0m\n",
      "\u001b[34m[10/08/2023 20:47:35 INFO 139964833281856] Epoch[18] Validation-accuracy=0.828125\u001b[0m\n",
      "\u001b[34m[10/08/2023 20:47:39 INFO 139964833281856] Epoch[19] Batch [20]#011Speed: 192.516 samples/sec#011accuracy=0.953869\u001b[0m\n",
      "\u001b[34m[10/08/2023 20:47:41 INFO 139964833281856] Epoch[19] Train-accuracy=0.937500\u001b[0m\n",
      "\u001b[34m[10/08/2023 20:47:41 INFO 139964833281856] Epoch[19] Time cost=4.934\u001b[0m\n",
      "\u001b[34m[10/08/2023 20:47:41 INFO 139964833281856] Epoch[19] Validation-accuracy=0.812500\u001b[0m\n",
      "\u001b[34m[10/08/2023 20:47:45 INFO 139964833281856] Epoch[20] Batch [20]#011Speed: 193.036 samples/sec#011accuracy=0.958333\u001b[0m\n",
      "\u001b[34m[10/08/2023 20:47:47 INFO 139964833281856] Epoch[20] Train-accuracy=0.954637\u001b[0m\n",
      "\u001b[34m[10/08/2023 20:47:47 INFO 139964833281856] Epoch[20] Time cost=4.943\u001b[0m\n",
      "\u001b[34m[10/08/2023 20:47:47 INFO 139964833281856] Epoch[20] Validation-accuracy=0.880208\u001b[0m\n",
      "\u001b[34m[10/08/2023 20:47:47 INFO 139964833281856] Storing the best model with validation accuracy: 0.880208\u001b[0m\n",
      "\u001b[34m[10/08/2023 20:47:48 INFO 139964833281856] Saved checkpoint to \"/opt/ml/model/image-classification-0021.params\"\u001b[0m\n",
      "\u001b[34m[10/08/2023 20:47:51 INFO 139964833281856] Epoch[21] Batch [20]#011Speed: 193.733 samples/sec#011accuracy=0.962798\u001b[0m\n",
      "\u001b[34m[10/08/2023 20:47:53 INFO 139964833281856] Epoch[21] Train-accuracy=0.947581\u001b[0m\n",
      "\u001b[34m[10/08/2023 20:47:53 INFO 139964833281856] Epoch[21] Time cost=4.936\u001b[0m\n",
      "\u001b[34m[10/08/2023 20:47:53 INFO 139964833281856] Epoch[21] Validation-accuracy=0.848958\u001b[0m\n",
      "\u001b[34m[10/08/2023 20:47:57 INFO 139964833281856] Epoch[22] Batch [20]#011Speed: 193.055 samples/sec#011accuracy=0.938988\u001b[0m\n",
      "\u001b[34m[10/08/2023 20:47:59 INFO 139964833281856] Epoch[22] Train-accuracy=0.942540\u001b[0m\n",
      "\u001b[34m[10/08/2023 20:47:59 INFO 139964833281856] Epoch[22] Time cost=4.945\u001b[0m\n",
      "\u001b[34m[10/08/2023 20:47:59 INFO 139964833281856] Epoch[22] Validation-accuracy=0.864583\u001b[0m\n",
      "\u001b[34m[10/08/2023 20:48:03 INFO 139964833281856] Epoch[23] Batch [20]#011Speed: 188.850 samples/sec#011accuracy=0.977679\u001b[0m\n",
      "\u001b[34m[10/08/2023 20:48:05 INFO 139964833281856] Epoch[23] Train-accuracy=0.965726\u001b[0m\n",
      "\u001b[34m[10/08/2023 20:48:05 INFO 139964833281856] Epoch[23] Time cost=5.041\u001b[0m\n",
      "\u001b[34m[10/08/2023 20:48:05 INFO 139964833281856] Epoch[23] Validation-accuracy=0.834821\u001b[0m\n",
      "\u001b[34m[10/08/2023 20:48:09 INFO 139964833281856] Epoch[24] Batch [20]#011Speed: 190.915 samples/sec#011accuracy=0.970238\u001b[0m\n",
      "\u001b[34m[10/08/2023 20:48:11 INFO 139964833281856] Epoch[24] Train-accuracy=0.969758\u001b[0m\n",
      "\u001b[34m[10/08/2023 20:48:11 INFO 139964833281856] Epoch[24] Time cost=4.969\u001b[0m\n",
      "\u001b[34m[10/08/2023 20:48:11 INFO 139964833281856] Epoch[24] Validation-accuracy=0.817708\u001b[0m\n",
      "\u001b[34m[10/08/2023 20:48:15 INFO 139964833281856] Epoch[25] Batch [20]#011Speed: 191.279 samples/sec#011accuracy=0.971726\u001b[0m\n",
      "\u001b[34m[10/08/2023 20:48:16 INFO 139964833281856] Epoch[25] Train-accuracy=0.966734\u001b[0m\n",
      "\u001b[34m[10/08/2023 20:48:16 INFO 139964833281856] Epoch[25] Time cost=4.977\u001b[0m\n",
      "\u001b[34m[10/08/2023 20:48:17 INFO 139964833281856] Epoch[25] Validation-accuracy=0.838542\u001b[0m\n",
      "\u001b[34m[10/08/2023 20:48:21 INFO 139964833281856] Epoch[26] Batch [20]#011Speed: 193.328 samples/sec#011accuracy=0.924107\u001b[0m\n",
      "\u001b[34m[10/08/2023 20:48:22 INFO 139964833281856] Epoch[26] Train-accuracy=0.939516\u001b[0m\n",
      "\u001b[34m[10/08/2023 20:48:22 INFO 139964833281856] Epoch[26] Time cost=4.936\u001b[0m\n",
      "\u001b[34m[10/08/2023 20:48:23 INFO 139964833281856] Epoch[26] Validation-accuracy=0.843750\u001b[0m\n",
      "\u001b[34m[10/08/2023 20:48:27 INFO 139964833281856] Epoch[27] Batch [20]#011Speed: 194.455 samples/sec#011accuracy=0.985119\u001b[0m\n",
      "\u001b[34m[10/08/2023 20:48:28 INFO 139964833281856] Epoch[27] Train-accuracy=0.981855\u001b[0m\n",
      "\u001b[34m[10/08/2023 20:48:28 INFO 139964833281856] Epoch[27] Time cost=4.898\u001b[0m\n",
      "\u001b[34m[10/08/2023 20:48:29 INFO 139964833281856] Epoch[27] Validation-accuracy=0.834821\u001b[0m\n",
      "\u001b[34m[10/08/2023 20:48:33 INFO 139964833281856] Epoch[28] Batch [20]#011Speed: 191.406 samples/sec#011accuracy=0.985119\u001b[0m\n",
      "\u001b[34m[10/08/2023 20:48:34 INFO 139964833281856] Epoch[28] Train-accuracy=0.983871\u001b[0m\n",
      "\u001b[34m[10/08/2023 20:48:34 INFO 139964833281856] Epoch[28] Time cost=4.961\u001b[0m\n",
      "\u001b[34m[10/08/2023 20:48:35 INFO 139964833281856] Epoch[28] Validation-accuracy=0.848958\u001b[0m\n",
      "\u001b[34m[10/08/2023 20:48:38 INFO 139964833281856] Epoch[29] Batch [20]#011Speed: 193.124 samples/sec#011accuracy=0.979167\u001b[0m\n",
      "\u001b[34m[10/08/2023 20:48:40 INFO 139964833281856] Epoch[29] Train-accuracy=0.979839\u001b[0m\n",
      "\u001b[34m[10/08/2023 20:48:40 INFO 139964833281856] Epoch[29] Time cost=4.946\u001b[0m\n",
      "\u001b[34m[10/08/2023 20:48:41 INFO 139964833281856] Epoch[29] Validation-accuracy=0.864583\u001b[0m\n",
      "\n",
      "2023-10-08 20:48:50 Uploading - Uploading generated training model\n",
      "2023-10-08 20:49:13 Completed - Training job completed\n",
      "Training seconds: 463\n",
      "Billable seconds: 463\n"
     ]
    }
   ],
   "source": [
    "img_classifier_model.fit(inputs = model_inputs, wait=True)\n",
    "#img_classifier_model.fit({'train' : model_inputs['train'], 'validation' : model_inputs['validation'],'train_lst' : model_inputs['train_lst'],'validation_lst' : model_inputs['validation_lst']}, wait=True)## TODO: train your model"
   ]
  },
  {
   "cell_type": "markdown",
   "metadata": {},
   "source": [
    "If all goes well, you'll end up with a model topping out above `.8` validation accuracy. With only 1000 training samples in the CIFAR dataset, that's pretty good. We could definitely pursue data augmentation & gathering more samples to help us improve further, but for now let's proceed to deploy our model.\n",
    "\n",
    "### Getting ready to deploy\n",
    "\n",
    "To begin with, let's configure Model Monitor to track our deployment. We'll define a `DataCaptureConfig` below:"
   ]
  },
  {
   "cell_type": "code",
   "execution_count": 5,
   "metadata": {},
   "outputs": [],
   "source": [
    "from sagemaker.model_monitor import DataCaptureConfig\n",
    "\n",
    "data_capture_config = DataCaptureConfig(\n",
    "    ## TODO: Set config options\n",
    "    enable_capture = True,\n",
    "    sampling_percentage = 100,\n",
    "    destination_s3_uri=f\"s3://{bucket}/data_capture\"\n",
    ")"
   ]
  },
  {
   "cell_type": "markdown",
   "metadata": {},
   "source": [
    "Note the `destination_s3_uri` parameter: At the end of the project, we can explore the `data_capture` directory in S3 to find crucial data about the inputs and outputs Model Monitor has observed on our model endpoint over time.\n",
    "\n",
    "With that done, deploy your model on a single `ml.m5.xlarge` instance with the data capture config attached:"
   ]
  },
  {
   "cell_type": "code",
   "execution_count": 12,
   "metadata": {},
   "outputs": [
    {
     "name": "stderr",
     "output_type": "stream",
     "text": [
      "INFO:sagemaker:Creating model with name: image-classification-2023-10-08-20-50-22-010\n",
      "INFO:sagemaker:Creating endpoint-config with name image-classification-2023-10-08-20-50-22-010\n",
      "INFO:sagemaker:Creating endpoint with name image-classification-2023-10-08-20-50-22-010\n"
     ]
    },
    {
     "name": "stdout",
     "output_type": "stream",
     "text": [
      "---------!image-classification-2023-10-08-20-50-22-010\n"
     ]
    }
   ],
   "source": [
    "deployment = img_classifier_model.deploy(\n",
    "    ## TODO: fill in deployment options\n",
    "    initial_instance_count = 1,\n",
    "    instance_type = 'ml.m5.xlarge',\n",
    "    data_capture_config=data_capture_config\n",
    "    )\n",
    "\n",
    "endpoint = deployment.endpoint_name\n",
    "print(endpoint)"
   ]
  },
  {
   "cell_type": "markdown",
   "metadata": {},
   "source": [
    "Note the endpoint name for later as well.\n",
    "\n",
    "Next, instantiate a Predictor:"
   ]
  },
  {
   "cell_type": "code",
   "execution_count": 13,
   "metadata": {},
   "outputs": [],
   "source": [
    "predictor = sagemaker.predictor.Predictor(endpoint_name = endpoint, sagemaker_session = sagemaker.Session())## TODO: fill in"
   ]
  },
  {
   "cell_type": "markdown",
   "metadata": {},
   "source": [
    "In the code snippet below we are going to prepare one of your saved images for prediction. Use the predictor to process the `payload`."
   ]
  },
  {
   "cell_type": "code",
   "execution_count": 14,
   "metadata": {},
   "outputs": [],
   "source": [
    "from sagemaker.serializers import IdentitySerializer\n",
    "import base64\n",
    "\n",
    "predictor.serializer = IdentitySerializer(\"image/png\")\n",
    "with open(\"./test/bicycle_s_001789.png\", \"rb\") as f:\n",
    "    payload = f.read()\n",
    "\n",
    "    \n",
    "inference = predictor.predict(payload)## TODO: Process the payload with your predictor"
   ]
  },
  {
   "cell_type": "markdown",
   "metadata": {},
   "source": [
    "Your `inference` object is an array of two values, the predicted probability value for each of your classes (bicycle and motorcycle respectively.) So, for example, a value of `b'[0.91, 0.09]'` indicates the probability of being a bike is 91% and being a motorcycle is 9%."
   ]
  },
  {
   "cell_type": "code",
   "execution_count": 15,
   "metadata": {},
   "outputs": [
    {
     "name": "stdout",
     "output_type": "stream",
     "text": [
      "b'[0.9846738576889038, 0.015326087363064289]'\n"
     ]
    }
   ],
   "source": [
    "print(inference)"
   ]
  },
  {
   "cell_type": "markdown",
   "metadata": {},
   "source": [
    "### Draft Lambdas and Step Function Workflow\n",
    "\n",
    "Your operations team uses Step Functions to orchestrate serverless workflows. One of the nice things about Step Functions is that [workflows can call other workflows](https://docs.aws.amazon.com/step-functions/latest/dg/connect-stepfunctions.html), so the team can easily plug your workflow into the broader production architecture for Scones Unlimited.\n",
    "\n",
    "In this next stage you're going to write and deploy three Lambda functions, and then use the Step Functions visual editor to chain them together! Our functions are going to work with a simple data object:\n",
    "\n",
    "```python\n",
    "{\n",
    "    \"inferences\": [], # Output of predictor.predict\n",
    "    \"s3_key\": \"\", # Source data S3 key\n",
    "    \"s3_bucket\": \"\", # Source data S3 bucket\n",
    "    \"image_data\": \"\"  # base64 encoded string containing the image data\n",
    "}\n",
    "```\n",
    "\n",
    "A good test object that you can use for Lambda tests and Step Function executions, throughout the next section, might look like this:\n",
    "\n",
    "```python\n",
    "{\n",
    "  \"image_data\": \"\",\n",
    "  \"s3_bucket\": MY_BUCKET_NAME, # Fill in with your bucket\n",
    "  \"s3_key\": \"test/bicycle_s_000513.png\"\n",
    "}\n",
    "```\n",
    "\n",
    "Using these fields, your functions can read and write the necessary data to execute your workflow. Let's start with the first function. Your first Lambda function will copy an object from S3, base64 encode it, and then return it to the step function as `image_data` in an event.\n",
    "\n",
    "Go to the Lambda dashboard and create a new Lambda function with a descriptive name like \"serializeImageData\" and select thr 'Python 3.8' runtime. Add the same permissions as the SageMaker role you created earlier. (Reminder: you do this in the Configuration tab under \"Permissions\"). Once you're ready, use the starter code below to craft your Lambda handler:\n",
    "\n",
    "```python\n",
    "import json\n",
    "import boto3\n",
    "import base64\n",
    "\n",
    "s3 = boto3.client('s3')\n",
    "\n",
    "def lambda_handler(event, context):\n",
    "    \"\"\"A function to serialize target data from S3\"\"\"\n",
    "    \n",
    "    # Get the s3 address from the Step Function event input\n",
    "    key = ## TODO: fill in\n",
    "    bucket = ## TODO: fill in\n",
    "    \n",
    "    # Download the data from s3 to /tmp/image.png\n",
    "    ## TODO: fill in\n",
    "    \n",
    "    # We read the data from a file\n",
    "    with open(\"/tmp/image.png\", \"rb\") as f:\n",
    "        image_data = base64.b64encode(f.read())\n",
    "\n",
    "    # Pass the data back to the Step Function\n",
    "    print(\"Event:\", event.keys())\n",
    "    return {\n",
    "        'statusCode': 200,\n",
    "        'body': {\n",
    "            \"image_data\": image_data,\n",
    "            \"s3_bucket\": bucket,\n",
    "            \"s3_key\": key,\n",
    "            \"inferences\": []\n",
    "        }\n",
    "    }\n",
    "```\n",
    "\n",
    "The next function is responsible for the classification part - we're going to take the image output from the previous function, decode it, and then pass inferences back to the the Step Function.\n",
    "\n",
    "Because this Lambda will have runtime dependencies (i.e. the SageMaker SDK) you'll need to package them in your function. *Key reading:* https://docs.aws.amazon.com/lambda/latest/dg/python-package-create.html#python-package-create-with-dependency\n",
    "\n",
    "Create a new Lambda function with the same rights and a descriptive name, then fill in the starter code below for your classifier Lambda.\n",
    "\n",
    "```python\n",
    "import json\n",
    "import sagemaker\n",
    "import base64\n",
    "from sagemaker.serializers import IdentitySerializer\n",
    "\n",
    "# Fill this in with the name of your deployed model\n",
    "ENDPOINT = ## TODO: fill in\n",
    "\n",
    "def lambda_handler(event, context):\n",
    "\n",
    "    # Decode the image data\n",
    "    image = base64.b64decode(## TODO: fill in)\n",
    "\n",
    "    # Instantiate a Predictor\n",
    "    predictor = ## TODO: fill in\n",
    "\n",
    "    # For this model the IdentitySerializer needs to be \"image/png\"\n",
    "    predictor.serializer = IdentitySerializer(\"image/png\")\n",
    "    \n",
    "    # Make a prediction:\n",
    "    inferences = ## TODO: fill in\n",
    "    \n",
    "    # We return the data back to the Step Function    \n",
    "    event[\"inferences\"] = inferences.decode('utf-8')\n",
    "    return {\n",
    "        'statusCode': 200,\n",
    "        'body': json.dumps(event)\n",
    "    }\n",
    "```\n",
    "\n",
    "Finally, we need to filter low-confidence inferences. Define a threshold between 1.00 and 0.000 for your model: what is reasonble for you? If the model predicts at `.70` for it's highest confidence label, do we want to pass that inference along to downstream systems? Make one last Lambda function and tee up the same permissions:\n",
    "\n",
    "```python\n",
    "import json\n",
    "\n",
    "\n",
    "THRESHOLD = .93\n",
    "\n",
    "\n",
    "def lambda_handler(event, context):\n",
    "    \n",
    "    # Grab the inferences from the event\n",
    "    inferences = ## TODO: fill in\n",
    "    \n",
    "    # Check if any values in our inferences are above THRESHOLD\n",
    "    meets_threshold = ## TODO: fill in\n",
    "    \n",
    "    # If our threshold is met, pass our data back out of the\n",
    "    # Step Function, else, end the Step Function with an error\n",
    "    if meets_threshold:\n",
    "        pass\n",
    "    else:\n",
    "        raise(\"THRESHOLD_CONFIDENCE_NOT_MET\")\n",
    "\n",
    "    return {\n",
    "        'statusCode': 200,\n",
    "        'body': json.dumps(event)\n",
    "    }\n",
    "```\n",
    "Once you have tested the lambda functions, save the code for each lambda function in a python script called 'lambda.py'.\n",
    "\n",
    "With your lambdas in place, you can use the Step Functions visual editor to construct a workflow that chains them together. In the Step Functions console you'll have the option to author a Standard step function *Visually*.\n",
    "\n",
    "When the visual editor opens, you'll have many options to add transitions in your workflow. We're going to keep it simple and have just one: to invoke Lambda functions. Add three of them chained together. For each one, you'll be able to select the Lambda functions you just created in the proper order, filter inputs and outputs, and give them descriptive names.\n",
    "\n",
    "Make sure that you:\n",
    "\n",
    "1. Are properly filtering the inputs and outputs of your invokations (e.g. `$.body`)\n",
    "2. Take care to remove the error handling from the last function - it's supposed to \"fail loudly\" for your operations colleagues!\n",
    "\n",
    "Take a screenshot of your working step function in action and export the step function as JSON for your submission package."
   ]
  },
  {
   "cell_type": "markdown",
   "metadata": {},
   "source": [
    "\n",
    "Great! Now you can use the files in `./test` as test files for our workflow. Depending on our threshold, our workflow should reliably pass predictions about images from `./test` on to downstream systems, while erroring out for inferences below our confidence threshold!\n",
    "\n",
    "### Testing and Evaluation\n",
    "\n",
    "Do several step function invokations using data from the `./test` folder. This process should give you confidence that the workflow both *succeeds* AND *fails* as expected. In addition, SageMaker Model Monitor will generate recordings of your data and inferences which we can visualize.\n",
    "\n",
    "Here's a function that can help you generate test inputs for your invokations:"
   ]
  },
  {
   "cell_type": "code",
   "execution_count": 20,
   "metadata": {},
   "outputs": [
    {
     "name": "stderr",
     "output_type": "stream",
     "text": [
      "/opt/conda/lib/python3.7/site-packages/boto3/compat.py:82: PythonDeprecationWarning: Boto3 will no longer support Python 3.7 starting December 13, 2023. To continue receiving service updates, bug fixes, and security updates please upgrade to Python 3.8 or later. More information can be found here: https://aws.amazon.com/blogs/developer/python-support-policy-updates-for-aws-sdks-and-tools/\n",
      "  warnings.warn(warning, PythonDeprecationWarning)\n"
     ]
    },
    {
     "data": {
      "text/plain": [
       "'{\"image_data\": \"\", \"s3_bucket\": \"projectbucket-udacity\", \"s3_key\": \"test/bicycle_s_002458.png\"}'"
      ]
     },
     "execution_count": 20,
     "metadata": {},
     "output_type": "execute_result"
    }
   ],
   "source": [
    "import random\n",
    "import boto3\n",
    "import json\n",
    "\n",
    "\n",
    "def generate_test_case():\n",
    "    # Setup s3 in boto3\n",
    "    s3 = boto3.resource('s3')\n",
    "    \n",
    "    # Randomly pick from sfn or test folders in our bucket\n",
    "    objects = s3.Bucket(bucket).objects.filter()\n",
    "    \n",
    "    # Grab any random object key from that folder!\n",
    "    obj = random.choice([x.key for x in objects])\n",
    "    \n",
    "    return json.dumps({\n",
    "        \"image_data\": \"\",\n",
    "        \"s3_bucket\": bucket,\n",
    "        \"s3_key\": obj\n",
    "    })\n",
    "generate_test_case()"
   ]
  },
  {
   "cell_type": "markdown",
   "metadata": {},
   "source": [
    "In the Step Function dashboard for your new function, you can create new executions and copy in the generated test cases. Do several executions so that you can generate data you can evaluate and visualize.\n",
    "\n",
    "Once you've done several executions, let's visualize the record of our inferences. Pull in the JSONLines data from your inferences like so:"
   ]
  },
  {
   "cell_type": "code",
   "execution_count": 21,
   "metadata": {},
   "outputs": [
    {
     "data": {
      "text/plain": [
       "['captured_data/55-18-327-86540e11-ca9c-4544-9810-eae218226b49.jsonl']"
      ]
     },
     "execution_count": 21,
     "metadata": {},
     "output_type": "execute_result"
    }
   ],
   "source": [
    "from sagemaker.s3 import S3Downloader\n",
    "\n",
    "# In S3 your data will be saved to a datetime-aware path\n",
    "# Find a path related to a datetime you're interested in\n",
    "data_path = f\"s3://projectbucket-udacity/data_capture/image-classification-2023-10-01-23-49-07-424/AllTraffic/2023/10/01/23/55-18-327-86540e11-ca9c-4544-9810-eae218226b49.jsonl\"## TODO: fill in the path to your captured data\n",
    "\n",
    "S3Downloader.download(data_path, \"captured_data\")\n",
    "\n",
    "# Feel free to repeat this multiple times and pull in more data"
   ]
  },
  {
   "cell_type": "markdown",
   "metadata": {},
   "source": [
    "The data are in JSONLines format, where multiple valid JSON objects are stacked on top of eachother in a single `jsonl` file. We'll import an open-source library, `jsonlines` that was purpose built for parsing this format."
   ]
  },
  {
   "cell_type": "code",
   "execution_count": 18,
   "metadata": {},
   "outputs": [
    {
     "name": "stdout",
     "output_type": "stream",
     "text": [
      "Collecting jsonlines\n",
      "  Downloading jsonlines-3.1.0-py3-none-any.whl (8.6 kB)\n",
      "Requirement already satisfied: attrs>=19.2.0 in /opt/conda/lib/python3.7/site-packages (from jsonlines) (23.1.0)\n",
      "Requirement already satisfied: typing-extensions in /opt/conda/lib/python3.7/site-packages (from jsonlines) (4.7.1)\n",
      "Requirement already satisfied: importlib-metadata in /opt/conda/lib/python3.7/site-packages (from attrs>=19.2.0->jsonlines) (6.7.0)\n",
      "Requirement already satisfied: zipp>=0.5 in /opt/conda/lib/python3.7/site-packages (from importlib-metadata->attrs>=19.2.0->jsonlines) (2.2.0)\n",
      "\u001b[33mDEPRECATION: pyodbc 4.0.0-unsupported has a non-standard version number. pip 23.3 will enforce this behaviour change. A possible replacement is to upgrade to a newer version of pyodbc or contact the author to suggest that they release a version with a conforming version number. Discussion can be found at https://github.com/pypa/pip/issues/12063\u001b[0m\u001b[33m\n",
      "\u001b[0mInstalling collected packages: jsonlines\n",
      "Successfully installed jsonlines-3.1.0\n",
      "\u001b[33mWARNING: Running pip as the 'root' user can result in broken permissions and conflicting behaviour with the system package manager. It is recommended to use a virtual environment instead: https://pip.pypa.io/warnings/venv\u001b[0m\u001b[33m\n",
      "\u001b[0m"
     ]
    }
   ],
   "source": [
    "!pip install jsonlines\n",
    "import jsonlines"
   ]
  },
  {
   "cell_type": "markdown",
   "metadata": {},
   "source": [
    "Now we can extract the data from each of the source files:"
   ]
  },
  {
   "cell_type": "code",
   "execution_count": 22,
   "metadata": {},
   "outputs": [],
   "source": [
    "import os\n",
    "\n",
    "# List the file names we downloaded\n",
    "file_handles = os.listdir(\"./captured_data\")\n",
    "\n",
    "# Dump all the data into an array\n",
    "json_data = []\n",
    "for jsonl in file_handles:\n",
    "    with jsonlines.open(f\"./captured_data/{jsonl}\") as f:\n",
    "        json_data.append(f.read())"
   ]
  },
  {
   "cell_type": "markdown",
   "metadata": {},
   "source": [
    "The data should now be a list of dictionaries, with significant nesting. We'll give you an example of some code that grabs data out of the objects and visualizes it:"
   ]
  },
  {
   "cell_type": "code",
   "execution_count": 23,
   "metadata": {},
   "outputs": [
    {
     "data": {
      "text/plain": [
       "([0.9731437563896179, 0.026856262236833572], '2023-10-01T23:55:18Z')"
      ]
     },
     "execution_count": 23,
     "metadata": {},
     "output_type": "execute_result"
    }
   ],
   "source": [
    "# Define how we'll get our data\n",
    "def simple_getter(obj):\n",
    "    inferences = obj[\"captureData\"][\"endpointOutput\"][\"data\"]\n",
    "    timestamp = obj[\"eventMetadata\"][\"inferenceTime\"]\n",
    "    return json.loads(inferences), timestamp\n",
    "\n",
    "simple_getter(json_data[0])"
   ]
  },
  {
   "cell_type": "markdown",
   "metadata": {},
   "source": [
    "Finally, here's an example of a visualization you can build with this data. In this last part, you will take some time and build your own - the captured data has the input images, the resulting inferences, and the timestamps."
   ]
  },
  {
   "cell_type": "code",
   "execution_count": 25,
   "metadata": {
    "tags": []
   },
   "outputs": [],
   "source": [
    "import matplotlib.pyplot as plt\n",
    "%matplotlib inline"
   ]
  },
  {
   "cell_type": "code",
   "execution_count": 26,
   "metadata": {},
   "outputs": [
    {
     "name": "stderr",
     "output_type": "stream",
     "text": [
      "INFO:matplotlib.category:Using categorical units to plot a list of strings that are all parsable as floats or dates. If these strings should be plotted as numbers, cast to the appropriate data type before plotting.\n",
      "INFO:matplotlib.category:Using categorical units to plot a list of strings that are all parsable as floats or dates. If these strings should be plotted as numbers, cast to the appropriate data type before plotting.\n"
     ]
    },
    {
     "data": {
      "image/png": "[encoded data removed]",
      "text/plain": [
       "<Figure size 640x480 with 1 Axes>"
      ]
     },
     "metadata": {},
     "output_type": "display_data"
    }
   ],
   "source": [
    "# Populate the data for the x and y axis\n",
    "x = []\n",
    "y = []\n",
    "for obj in json_data:\n",
    "    inference, timestamp = simple_getter(obj)\n",
    "    \n",
    "    y.append(max(inference))\n",
    "    x.append(timestamp)\n",
    "\n",
    "# Todo: here is an visualization example, take some time to build another visual that helps monitor the result\n",
    "# Plot the data\n",
    "plt.scatter(x, y, c=['r' if k<.94 else 'b' for k in y ])\n",
    "plt.axhline(y=0.94, color='g', linestyle='--')\n",
    "plt.ylim(bottom=.88)\n",
    "\n",
    "# Add labels\n",
    "plt.ylabel(\"Confidence\")\n",
    "plt.suptitle(\"Observed Recent Inferences\", size=14)\n",
    "plt.title(\"Pictured with confidence threshold for production use\", size=10)\n",
    "\n",
    "# Give it some pizzaz!\n",
    "plt.style.use(\"Solarize_Light2\")\n",
    "plt.gcf().autofmt_xdate()"
   ]
  },
  {
   "cell_type": "markdown",
   "metadata": {},
   "source": [
    "### Todo: build your own visualization\n"
   ]
  },
  {
   "cell_type": "code",
   "execution_count": null,
   "metadata": {},
   "outputs": [],
   "source": []
  },
  {
   "cell_type": "markdown",
   "metadata": {},
   "source": [
    "### Congratulations!\n",
    "\n",
    "You've reached the end of the project. In this project you created an event-drivent ML workflow that can be incorporated into the Scones Unlimited production architecture. You used the SageMaker Estimator API to deploy your SageMaker Model and Endpoint, and you used AWS Lambda and Step Functions to orchestrate your ML workflow. Using SageMaker Model Monitor, you instrumented and observed your Endpoint, and at the end of the project you built a visualization to help stakeholders understand the performance of the Endpoint over time. If you're up for it, you can even go further with these stretch goals:\n",
    "\n",
    "* Extend your workflow to incorporate more classes: the CIFAR dataset includes other vehicles that Scones Unlimited can identify with this model.\n",
    "* Modify your event driven workflow: can you rewrite your Lambda functions so that the workflow can process multiple image inputs in parallel? Can the Step Function \"fan out\" to accomodate this new workflow?\n",
    "* Consider the test data generator we provided for you. Can we use it to create a \"dummy data\" generator, to simulate a continuous stream of input data? Or a big paralell load of data?\n",
    "* What if we want to get notified every time our step function errors out? Can we use the Step Functions visual editor in conjunction with a service like SNS to accomplish this? Try it out!\n",
    "\n",
    "\n"
   ]
  }
 ],
 "metadata": {
  "availableInstances": [
   {
    "_defaultOrder": 0,
    "_isFastLaunch": true,
    "category": "General purpose",
    "gpuNum": 0,
    "hideHardwareSpecs": false,
    "memoryGiB": 4,
    "name": "ml.t3.medium",
    "vcpuNum": 2
   },
   {
    "_defaultOrder": 1,
    "_isFastLaunch": false,
    "category": "General purpose",
    "gpuNum": 0,
    "hideHardwareSpecs": false,
    "memoryGiB": 8,
    "name": "ml.t3.large",
    "vcpuNum": 2
   },
   {
    "_defaultOrder": 2,
    "_isFastLaunch": false,
    "category": "General purpose",
    "gpuNum": 0,
    "hideHardwareSpecs": false,
    "memoryGiB": 16,
    "name": "ml.t3.xlarge",
    "vcpuNum": 4
   },
   {
    "_defaultOrder": 3,
    "_isFastLaunch": false,
    "category": "General purpose",
    "gpuNum": 0,
    "hideHardwareSpecs": false,
    "memoryGiB": 32,
    "name": "ml.t3.2xlarge",
    "vcpuNum": 8
   },
   {
    "_defaultOrder": 4,
    "_isFastLaunch": true,
    "category": "General purpose",
    "gpuNum": 0,
    "hideHardwareSpecs": false,
    "memoryGiB": 8,
    "name": "ml.m5.large",
    "vcpuNum": 2
   },
   {
    "_defaultOrder": 5,
    "_isFastLaunch": false,
    "category": "General purpose",
    "gpuNum": 0,
    "hideHardwareSpecs": false,
    "memoryGiB": 16,
    "name": "ml.m5.xlarge",
    "vcpuNum": 4
   },
   {
    "_defaultOrder": 6,
    "_isFastLaunch": false,
    "category": "General purpose",
    "gpuNum": 0,
    "hideHardwareSpecs": false,
    "memoryGiB": 32,
    "name": "ml.m5.2xlarge",
    "vcpuNum": 8
   },
   {
    "_defaultOrder": 7,
    "_isFastLaunch": false,
    "category": "General purpose",
    "gpuNum": 0,
    "hideHardwareSpecs": false,
    "memoryGiB": 64,
    "name": "ml.m5.4xlarge",
    "vcpuNum": 16
   },
   {
    "_defaultOrder": 8,
    "_isFastLaunch": false,
    "category": "General purpose",
    "gpuNum": 0,
    "hideHardwareSpecs": false,
    "memoryGiB": 128,
    "name": "ml.m5.8xlarge",
    "vcpuNum": 32
   },
   {
    "_defaultOrder": 9,
    "_isFastLaunch": false,
    "category": "General purpose",
    "gpuNum": 0,
    "hideHardwareSpecs": false,
    "memoryGiB": 192,
    "name": "ml.m5.12xlarge",
    "vcpuNum": 48
   },
   {
    "_defaultOrder": 10,
    "_isFastLaunch": false,
    "category": "General purpose",
    "gpuNum": 0,
    "hideHardwareSpecs": false,
    "memoryGiB": 256,
    "name": "ml.m5.16xlarge",
    "vcpuNum": 64
   },
   {
    "_defaultOrder": 11,
    "_isFastLaunch": false,
    "category": "General purpose",
    "gpuNum": 0,
    "hideHardwareSpecs": false,
    "memoryGiB": 384,
    "name": "ml.m5.24xlarge",
    "vcpuNum": 96
   },
   {
    "_defaultOrder": 12,
    "_isFastLaunch": false,
    "category": "General purpose",
    "gpuNum": 0,
    "hideHardwareSpecs": false,
    "memoryGiB": 8,
    "name": "ml.m5d.large",
    "vcpuNum": 2
   },
   {
    "_defaultOrder": 13,
    "_isFastLaunch": false,
    "category": "General purpose",
    "gpuNum": 0,
    "hideHardwareSpecs": false,
    "memoryGiB": 16,
    "name": "ml.m5d.xlarge",
    "vcpuNum": 4
   },
   {
    "_defaultOrder": 14,
    "_isFastLaunch": false,
    "category": "General purpose",
    "gpuNum": 0,
    "hideHardwareSpecs": false,
    "memoryGiB": 32,
    "name": "ml.m5d.2xlarge",
    "vcpuNum": 8
   },
   {
    "_defaultOrder": 15,
    "_isFastLaunch": false,
    "category": "General purpose",
    "gpuNum": 0,
    "hideHardwareSpecs": false,
    "memoryGiB": 64,
    "name": "ml.m5d.4xlarge",
    "vcpuNum": 16
   },
   {
    "_defaultOrder": 16,
    "_isFastLaunch": false,
    "category": "General purpose",
    "gpuNum": 0,
    "hideHardwareSpecs": false,
    "memoryGiB": 128,
    "name": "ml.m5d.8xlarge",
    "vcpuNum": 32
   },
   {
    "_defaultOrder": 17,
    "_isFastLaunch": false,
    "category": "General purpose",
    "gpuNum": 0,
    "hideHardwareSpecs": false,
    "memoryGiB": 192,
    "name": "ml.m5d.12xlarge",
    "vcpuNum": 48
   },
   {
    "_defaultOrder": 18,
    "_isFastLaunch": false,
    "category": "General purpose",
    "gpuNum": 0,
    "hideHardwareSpecs": false,
    "memoryGiB": 256,
    "name": "ml.m5d.16xlarge",
    "vcpuNum": 64
   },
   {
    "_defaultOrder": 19,
    "_isFastLaunch": false,
    "category": "General purpose",
    "gpuNum": 0,
    "hideHardwareSpecs": false,
    "memoryGiB": 384,
    "name": "ml.m5d.24xlarge",
    "vcpuNum": 96
   },
   {
    "_defaultOrder": 20,
    "_isFastLaunch": false,
    "category": "General purpose",
    "gpuNum": 0,
    "hideHardwareSpecs": true,
    "memoryGiB": 0,
    "name": "ml.geospatial.interactive",
    "supportedImageNames": [
     "sagemaker-geospatial-v1-0"
    ],
    "vcpuNum": 0
   },
   {
    "_defaultOrder": 21,
    "_isFastLaunch": true,
    "category": "Compute optimized",
    "gpuNum": 0,
    "hideHardwareSpecs": false,
    "memoryGiB": 4,
    "name": "ml.c5.large",
    "vcpuNum": 2
   },
   {
    "_defaultOrder": 22,
    "_isFastLaunch": false,
    "category": "Compute optimized",
    "gpuNum": 0,
    "hideHardwareSpecs": false,
    "memoryGiB": 8,
    "name": "ml.c5.xlarge",
    "vcpuNum": 4
   },
   {
    "_defaultOrder": 23,
    "_isFastLaunch": false,
    "category": "Compute optimized",
    "gpuNum": 0,
    "hideHardwareSpecs": false,
    "memoryGiB": 16,
    "name": "ml.c5.2xlarge",
    "vcpuNum": 8
   },
   {
    "_defaultOrder": 24,
    "_isFastLaunch": false,
    "category": "Compute optimized",
    "gpuNum": 0,
    "hideHardwareSpecs": false,
    "memoryGiB": 32,
    "name": "ml.c5.4xlarge",
    "vcpuNum": 16
   },
   {
    "_defaultOrder": 25,
    "_isFastLaunch": false,
    "category": "Compute optimized",
    "gpuNum": 0,
    "hideHardwareSpecs": false,
    "memoryGiB": 72,
    "name": "ml.c5.9xlarge",
    "vcpuNum": 36
   },
   {
    "_defaultOrder": 26,
    "_isFastLaunch": false,
    "category": "Compute optimized",
    "gpuNum": 0,
    "hideHardwareSpecs": false,
    "memoryGiB": 96,
    "name": "ml.c5.12xlarge",
    "vcpuNum": 48
   },
   {
    "_defaultOrder": 27,
    "_isFastLaunch": false,
    "category": "Compute optimized",
    "gpuNum": 0,
    "hideHardwareSpecs": false,
    "memoryGiB": 144,
    "name": "ml.c5.18xlarge",
    "vcpuNum": 72
   },
   {
    "_defaultOrder": 28,
    "_isFastLaunch": false,
    "category": "Compute optimized",
    "gpuNum": 0,
    "hideHardwareSpecs": false,
    "memoryGiB": 192,
    "name": "ml.c5.24xlarge",
    "vcpuNum": 96
   },
   {
    "_defaultOrder": 29,
    "_isFastLaunch": true,
    "category": "Accelerated computing",
    "gpuNum": 1,
    "hideHardwareSpecs": false,
    "memoryGiB": 16,
    "name": "ml.g4dn.xlarge",
    "vcpuNum": 4
   },
   {
    "_defaultOrder": 30,
    "_isFastLaunch": false,
    "category": "Accelerated computing",
    "gpuNum": 1,
    "hideHardwareSpecs": false,
    "memoryGiB": 32,
    "name": "ml.g4dn.2xlarge",
    "vcpuNum": 8
   },
   {
    "_defaultOrder": 31,
    "_isFastLaunch": false,
    "category": "Accelerated computing",
    "gpuNum": 1,
    "hideHardwareSpecs": false,
    "memoryGiB": 64,
    "name": "ml.g4dn.4xlarge",
    "vcpuNum": 16
   },
   {
    "_defaultOrder": 32,
    "_isFastLaunch": false,
    "category": "Accelerated computing",
    "gpuNum": 1,
    "hideHardwareSpecs": false,
    "memoryGiB": 128,
    "name": "ml.g4dn.8xlarge",
    "vcpuNum": 32
   },
   {
    "_defaultOrder": 33,
    "_isFastLaunch": false,
    "category": "Accelerated computing",
    "gpuNum": 4,
    "hideHardwareSpecs": false,
    "memoryGiB": 192,
    "name": "ml.g4dn.12xlarge",
    "vcpuNum": 48
   },
   {
    "_defaultOrder": 34,
    "_isFastLaunch": false,
    "category": "Accelerated computing",
    "gpuNum": 1,
    "hideHardwareSpecs": false,
    "memoryGiB": 256,
    "name": "ml.g4dn.16xlarge",
    "vcpuNum": 64
   },
   {
    "_defaultOrder": 35,
    "_isFastLaunch": false,
    "category": "Accelerated computing",
    "gpuNum": 1,
    "hideHardwareSpecs": false,
    "memoryGiB": 61,
    "name": "ml.p3.2xlarge",
    "vcpuNum": 8
   },
   {
    "_defaultOrder": 36,
    "_isFastLaunch": false,
    "category": "Accelerated computing",
    "gpuNum": 4,
    "hideHardwareSpecs": false,
    "memoryGiB": 244,
    "name": "ml.p3.8xlarge",
    "vcpuNum": 32
   },
   {
    "_defaultOrder": 37,
    "_isFastLaunch": false,
    "category": "Accelerated computing",
    "gpuNum": 8,
    "hideHardwareSpecs": false,
    "memoryGiB": 488,
    "name": "ml.p3.16xlarge",
    "vcpuNum": 64
   },
   {
    "_defaultOrder": 38,
    "_isFastLaunch": false,
    "category": "Accelerated computing",
    "gpuNum": 8,
    "hideHardwareSpecs": false,
    "memoryGiB": 768,
    "name": "ml.p3dn.24xlarge",
    "vcpuNum": 96
   },
   {
    "_defaultOrder": 39,
    "_isFastLaunch": false,
    "category": "Memory Optimized",
    "gpuNum": 0,
    "hideHardwareSpecs": false,
    "memoryGiB": 16,
    "name": "ml.r5.large",
    "vcpuNum": 2
   },
   {
    "_defaultOrder": 40,
    "_isFastLaunch": false,
    "category": "Memory Optimized",
    "gpuNum": 0,
    "hideHardwareSpecs": false,
    "memoryGiB": 32,
    "name": "ml.r5.xlarge",
    "vcpuNum": 4
   },
   {
    "_defaultOrder": 41,
    "_isFastLaunch": false,
    "category": "Memory Optimized",
    "gpuNum": 0,
    "hideHardwareSpecs": false,
    "memoryGiB": 64,
    "name": "ml.r5.2xlarge",
    "vcpuNum": 8
   },
   {
    "_defaultOrder": 42,
    "_isFastLaunch": false,
    "category": "Memory Optimized",
    "gpuNum": 0,
    "hideHardwareSpecs": false,
    "memoryGiB": 128,
    "name": "ml.r5.4xlarge",
    "vcpuNum": 16
   },
   {
    "_defaultOrder": 43,
    "_isFastLaunch": false,
    "category": "Memory Optimized",
    "gpuNum": 0,
    "hideHardwareSpecs": false,
    "memoryGiB": 256,
    "name": "ml.r5.8xlarge",
    "vcpuNum": 32
   },
   {
    "_defaultOrder": 44,
    "_isFastLaunch": false,
    "category": "Memory Optimized",
    "gpuNum": 0,
    "hideHardwareSpecs": false,
    "memoryGiB": 384,
    "name": "ml.r5.12xlarge",
    "vcpuNum": 48
   },
   {
    "_defaultOrder": 45,
    "_isFastLaunch": false,
    "category": "Memory Optimized",
    "gpuNum": 0,
    "hideHardwareSpecs": false,
    "memoryGiB": 512,
    "name": "ml.r5.16xlarge",
    "vcpuNum": 64
   },
   {
    "_defaultOrder": 46,
    "_isFastLaunch": false,
    "category": "Memory Optimized",
    "gpuNum": 0,
    "hideHardwareSpecs": false,
    "memoryGiB": 768,
    "name": "ml.r5.24xlarge",
    "vcpuNum": 96
   },
   {
    "_defaultOrder": 47,
    "_isFastLaunch": false,
    "category": "Accelerated computing",
    "gpuNum": 1,
    "hideHardwareSpecs": false,
    "memoryGiB": 16,
    "name": "ml.g5.xlarge",
    "vcpuNum": 4
   },
   {
    "_defaultOrder": 48,
    "_isFastLaunch": false,
    "category": "Accelerated computing",
    "gpuNum": 1,
    "hideHardwareSpecs": false,
    "memoryGiB": 32,
    "name": "ml.g5.2xlarge",
    "vcpuNum": 8
   },
   {
    "_defaultOrder": 49,
    "_isFastLaunch": false,
    "category": "Accelerated computing",
    "gpuNum": 1,
    "hideHardwareSpecs": false,
    "memoryGiB": 64,
    "name": "ml.g5.4xlarge",
    "vcpuNum": 16
   },
   {
    "_defaultOrder": 50,
    "_isFastLaunch": false,
    "category": "Accelerated computing",
    "gpuNum": 1,
    "hideHardwareSpecs": false,
    "memoryGiB": 128,
    "name": "ml.g5.8xlarge",
    "vcpuNum": 32
   },
   {
    "_defaultOrder": 51,
    "_isFastLaunch": false,
    "category": "Accelerated computing",
    "gpuNum": 1,
    "hideHardwareSpecs": false,
    "memoryGiB": 256,
    "name": "ml.g5.16xlarge",
    "vcpuNum": 64
   },
   {
    "_defaultOrder": 52,
    "_isFastLaunch": false,
    "category": "Accelerated computing",
    "gpuNum": 4,
    "hideHardwareSpecs": false,
    "memoryGiB": 192,
    "name": "ml.g5.12xlarge",
    "vcpuNum": 48
   },
   {
    "_defaultOrder": 53,
    "_isFastLaunch": false,
    "category": "Accelerated computing",
    "gpuNum": 4,
    "hideHardwareSpecs": false,
    "memoryGiB": 384,
    "name": "ml.g5.24xlarge",
    "vcpuNum": 96
   },
   {
    "_defaultOrder": 54,
    "_isFastLaunch": false,
    "category": "Accelerated computing",
    "gpuNum": 8,
    "hideHardwareSpecs": false,
    "memoryGiB": 768,
    "name": "ml.g5.48xlarge",
    "vcpuNum": 192
   },
   {
    "_defaultOrder": 55,
    "_isFastLaunch": false,
    "category": "Accelerated computing",
    "gpuNum": 8,
    "hideHardwareSpecs": false,
    "memoryGiB": 1152,
    "name": "ml.p4d.24xlarge",
    "vcpuNum": 96
   },
   {
    "_defaultOrder": 56,
    "_isFastLaunch": false,
    "category": "Accelerated computing",
    "gpuNum": 8,
    "hideHardwareSpecs": false,
    "memoryGiB": 1152,
    "name": "ml.p4de.24xlarge",
    "vcpuNum": 96
   }
  ],
  "instance_type": "ml.t3.medium",
  "kernelspec": {
   "display_name": "Python 3 (Data Science)",
   "language": "python",
   "name": "python3__SAGEMAKER_INTERNAL__arn:aws:sagemaker:us-east-1:081325390199:image/datascience-1.0"
  },
  "language_info": {
   "codemirror_mode": {
    "name": "ipython",
    "version": 3
   },
   "file_extension": ".py",
   "mimetype": "text/x-python",
   "name": "python",
   "nbconvert_exporter": "python",
   "pygments_lexer": "ipython3",
   "version": "3.7.10"
  }
 },
 "nbformat": 4,
 "nbformat_minor": 4
}
